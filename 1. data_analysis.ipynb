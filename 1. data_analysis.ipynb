{
 "cells": [
  {
   "cell_type": "code",
   "execution_count": 1,
   "id": "31dbc2d5",
   "metadata": {},
   "outputs": [
    {
     "name": "stderr",
     "output_type": "stream",
     "text": [
      "c:\\Users\\AakashAI\\Desktop\\Repositories\\Sales Agent\\.venv\\Lib\\site-packages\\tqdm\\auto.py:21: TqdmWarning: IProgress not found. Please update jupyter and ipywidgets. See https://ipywidgets.readthedocs.io/en/stable/user_install.html\n",
      "  from .autonotebook import tqdm as notebook_tqdm\n"
     ]
    },
    {
     "name": "stdout",
     "output_type": "stream",
     "text": [
      "Downloading dataset 1...\n",
      "Path 1: C:\\Users\\AakashAI\\.cache\\kagglehub\\datasets\\ashydv\\leads-dataset\\versions\\1\n",
      "Contents of path 1: ['image.jpg', 'Leads Data Dictionary.xlsx', 'Leads.csv']\n",
      "Attempting to read: C:\\Users\\AakashAI\\.cache\\kagglehub\\datasets\\ashydv\\leads-dataset\\versions\\1\\Leads.csv\n",
      "Dataset 1 loaded successfully.\n"
     ]
    }
   ],
   "source": [
    "import kagglehub\n",
    "import os\n",
    "import pandas as pd\n",
    "\n",
    "# --- Dataset 1 ---\n",
    "print(\"Downloading dataset 1...\")\n",
    "path1 = kagglehub.dataset_download(\"ashydv/leads-dataset\")\n",
    "print(f\"Path 1: {path1}\")\n",
    "print(f\"Contents of path 1: {os.listdir(path1)}\") \n",
    "\n",
    "file1_path = os.path.join(path1, \"Leads.csv\") \n",
    "try:\n",
    "    print(f\"Attempting to read: {file1_path}\")\n",
    "    df1 = pd.read_csv(file1_path)\n",
    "    print(\"Dataset 1 loaded successfully.\")\n",
    "\n",
    "except FileNotFoundError:\n",
    "    print(f\"ERROR: File not found at {file1_path}. Check contents list above.\")\n",
    "except Exception as e:\n",
    "    print(f\"An error occurred loading dataset 1: {e}\")\n",
    "\n"
   ]
  },
  {
   "cell_type": "code",
   "execution_count": 2,
   "id": "3696fa9a",
   "metadata": {},
   "outputs": [
    {
     "name": "stdout",
     "output_type": "stream",
     "text": [
      "\n",
      "Downloading dataset 2...\n",
      "Path 2: C:\\Users\\AakashAI\\.cache\\kagglehub\\datasets\\rockbottom73\\leads-dataset\\versions\\1\n",
      "Contents of path 2: ['SampleData.csv']\n",
      "Attempting to read: C:\\Users\\AakashAI\\.cache\\kagglehub\\datasets\\rockbottom73\\leads-dataset\\versions\\1\\SampleData.csv\n",
      "Dataset 2 loaded successfully.\n"
     ]
    },
    {
     "name": "stderr",
     "output_type": "stream",
     "text": [
      "C:\\Users\\AakashAI\\AppData\\Local\\Temp\\ipykernel_18980\\801583862.py:11: DtypeWarning: Columns (5,44,53,77,97) have mixed types. Specify dtype option on import or set low_memory=False.\n",
      "  df2 = pd.read_csv(file2_path, encoding='latin1')\n"
     ]
    }
   ],
   "source": [
    "\n",
    "\n",
    "# --- Dataset 2 ---\n",
    "print(\"\\nDownloading dataset 2...\")\n",
    "path2 = kagglehub.dataset_download(\"rockbottom73/leads-dataset\")\n",
    "print(f\"Path 2: {path2}\")\n",
    "print(f\"Contents of path 2: {os.listdir(path2)}\") # <-- Check contents\n",
    "\n",
    "# Verify the filename and update if necessary\n",
    "file2_path = os.path.join(path2, \"SampleData.csv\") # <-- Assumed filename (might be different!)\n",
    "try:\n",
    "    print(f\"Attempting to read: {file2_path}\")\n",
    "    df2 = pd.read_csv(file2_path, encoding='latin1')\n",
    "    print(\"Dataset 2 loaded successfully.\")\n",
    "    # print(df2.head())\n",
    "except FileNotFoundError:\n",
    "    print(f\"ERROR: File not found at {file2_path}. Check contents list above.\")\n",
    "except Exception as e:\n",
    "    print(f\"An error occurred loading dataset 2: {e}\")"
   ]
  },
  {
   "cell_type": "code",
   "execution_count": 3,
   "id": "4abcc5f3",
   "metadata": {},
   "outputs": [],
   "source": [
    "df1.to_csv(\"leads_dataset_1.csv\", index=False)\n",
    "df2.to_csv(\"leads_dataset_2.csv\", index=False)"
   ]
  },
  {
   "cell_type": "code",
   "execution_count": 4,
   "id": "0534dd4a",
   "metadata": {},
   "outputs": [
    {
     "data": {
      "text/html": [
       "<div>\n",
       "<style scoped>\n",
       "    .dataframe tbody tr th:only-of-type {\n",
       "        vertical-align: middle;\n",
       "    }\n",
       "\n",
       "    .dataframe tbody tr th {\n",
       "        vertical-align: top;\n",
       "    }\n",
       "\n",
       "    .dataframe thead th {\n",
       "        text-align: right;\n",
       "    }\n",
       "</style>\n",
       "<table border=\"1\" class=\"dataframe\">\n",
       "  <thead>\n",
       "    <tr style=\"text-align: right;\">\n",
       "      <th></th>\n",
       "      <th>Prospect ID</th>\n",
       "      <th>Lead Number</th>\n",
       "      <th>Lead Origin</th>\n",
       "      <th>Lead Source</th>\n",
       "      <th>Do Not Email</th>\n",
       "      <th>Do Not Call</th>\n",
       "      <th>Converted</th>\n",
       "      <th>TotalVisits</th>\n",
       "      <th>Total Time Spent on Website</th>\n",
       "      <th>Page Views Per Visit</th>\n",
       "      <th>...</th>\n",
       "      <th>Get updates on DM Content</th>\n",
       "      <th>Lead Profile</th>\n",
       "      <th>City</th>\n",
       "      <th>Asymmetrique Activity Index</th>\n",
       "      <th>Asymmetrique Profile Index</th>\n",
       "      <th>Asymmetrique Activity Score</th>\n",
       "      <th>Asymmetrique Profile Score</th>\n",
       "      <th>I agree to pay the amount through cheque</th>\n",
       "      <th>A free copy of Mastering The Interview</th>\n",
       "      <th>Last Notable Activity</th>\n",
       "    </tr>\n",
       "  </thead>\n",
       "  <tbody>\n",
       "    <tr>\n",
       "      <th>0</th>\n",
       "      <td>7927b2df-8bba-4d29-b9a2-b6e0beafe620</td>\n",
       "      <td>660737</td>\n",
       "      <td>API</td>\n",
       "      <td>Olark Chat</td>\n",
       "      <td>No</td>\n",
       "      <td>No</td>\n",
       "      <td>0</td>\n",
       "      <td>0.0</td>\n",
       "      <td>0</td>\n",
       "      <td>0.0</td>\n",
       "      <td>...</td>\n",
       "      <td>No</td>\n",
       "      <td>Select</td>\n",
       "      <td>Select</td>\n",
       "      <td>02.Medium</td>\n",
       "      <td>02.Medium</td>\n",
       "      <td>15.0</td>\n",
       "      <td>15.0</td>\n",
       "      <td>No</td>\n",
       "      <td>No</td>\n",
       "      <td>Modified</td>\n",
       "    </tr>\n",
       "    <tr>\n",
       "      <th>1</th>\n",
       "      <td>2a272436-5132-4136-86fa-dcc88c88f482</td>\n",
       "      <td>660728</td>\n",
       "      <td>API</td>\n",
       "      <td>Organic Search</td>\n",
       "      <td>No</td>\n",
       "      <td>No</td>\n",
       "      <td>0</td>\n",
       "      <td>5.0</td>\n",
       "      <td>674</td>\n",
       "      <td>2.5</td>\n",
       "      <td>...</td>\n",
       "      <td>No</td>\n",
       "      <td>Select</td>\n",
       "      <td>Select</td>\n",
       "      <td>02.Medium</td>\n",
       "      <td>02.Medium</td>\n",
       "      <td>15.0</td>\n",
       "      <td>15.0</td>\n",
       "      <td>No</td>\n",
       "      <td>No</td>\n",
       "      <td>Email Opened</td>\n",
       "    </tr>\n",
       "    <tr>\n",
       "      <th>2</th>\n",
       "      <td>8cc8c611-a219-4f35-ad23-fdfd2656bd8a</td>\n",
       "      <td>660727</td>\n",
       "      <td>Landing Page Submission</td>\n",
       "      <td>Direct Traffic</td>\n",
       "      <td>No</td>\n",
       "      <td>No</td>\n",
       "      <td>1</td>\n",
       "      <td>2.0</td>\n",
       "      <td>1532</td>\n",
       "      <td>2.0</td>\n",
       "      <td>...</td>\n",
       "      <td>No</td>\n",
       "      <td>Potential Lead</td>\n",
       "      <td>Mumbai</td>\n",
       "      <td>02.Medium</td>\n",
       "      <td>01.High</td>\n",
       "      <td>14.0</td>\n",
       "      <td>20.0</td>\n",
       "      <td>No</td>\n",
       "      <td>Yes</td>\n",
       "      <td>Email Opened</td>\n",
       "    </tr>\n",
       "    <tr>\n",
       "      <th>3</th>\n",
       "      <td>0cc2df48-7cf4-4e39-9de9-19797f9b38cc</td>\n",
       "      <td>660719</td>\n",
       "      <td>Landing Page Submission</td>\n",
       "      <td>Direct Traffic</td>\n",
       "      <td>No</td>\n",
       "      <td>No</td>\n",
       "      <td>0</td>\n",
       "      <td>1.0</td>\n",
       "      <td>305</td>\n",
       "      <td>1.0</td>\n",
       "      <td>...</td>\n",
       "      <td>No</td>\n",
       "      <td>Select</td>\n",
       "      <td>Mumbai</td>\n",
       "      <td>02.Medium</td>\n",
       "      <td>01.High</td>\n",
       "      <td>13.0</td>\n",
       "      <td>17.0</td>\n",
       "      <td>No</td>\n",
       "      <td>No</td>\n",
       "      <td>Modified</td>\n",
       "    </tr>\n",
       "    <tr>\n",
       "      <th>4</th>\n",
       "      <td>3256f628-e534-4826-9d63-4a8b88782852</td>\n",
       "      <td>660681</td>\n",
       "      <td>Landing Page Submission</td>\n",
       "      <td>Google</td>\n",
       "      <td>No</td>\n",
       "      <td>No</td>\n",
       "      <td>1</td>\n",
       "      <td>2.0</td>\n",
       "      <td>1428</td>\n",
       "      <td>1.0</td>\n",
       "      <td>...</td>\n",
       "      <td>No</td>\n",
       "      <td>Select</td>\n",
       "      <td>Mumbai</td>\n",
       "      <td>02.Medium</td>\n",
       "      <td>01.High</td>\n",
       "      <td>15.0</td>\n",
       "      <td>18.0</td>\n",
       "      <td>No</td>\n",
       "      <td>No</td>\n",
       "      <td>Modified</td>\n",
       "    </tr>\n",
       "  </tbody>\n",
       "</table>\n",
       "<p>5 rows × 37 columns</p>\n",
       "</div>"
      ],
      "text/plain": [
       "                            Prospect ID  Lead Number              Lead Origin  \\\n",
       "0  7927b2df-8bba-4d29-b9a2-b6e0beafe620       660737                      API   \n",
       "1  2a272436-5132-4136-86fa-dcc88c88f482       660728                      API   \n",
       "2  8cc8c611-a219-4f35-ad23-fdfd2656bd8a       660727  Landing Page Submission   \n",
       "3  0cc2df48-7cf4-4e39-9de9-19797f9b38cc       660719  Landing Page Submission   \n",
       "4  3256f628-e534-4826-9d63-4a8b88782852       660681  Landing Page Submission   \n",
       "\n",
       "      Lead Source Do Not Email Do Not Call  Converted  TotalVisits  \\\n",
       "0      Olark Chat           No          No          0          0.0   \n",
       "1  Organic Search           No          No          0          5.0   \n",
       "2  Direct Traffic           No          No          1          2.0   \n",
       "3  Direct Traffic           No          No          0          1.0   \n",
       "4          Google           No          No          1          2.0   \n",
       "\n",
       "   Total Time Spent on Website  Page Views Per Visit  ...  \\\n",
       "0                            0                   0.0  ...   \n",
       "1                          674                   2.5  ...   \n",
       "2                         1532                   2.0  ...   \n",
       "3                          305                   1.0  ...   \n",
       "4                         1428                   1.0  ...   \n",
       "\n",
       "  Get updates on DM Content    Lead Profile    City  \\\n",
       "0                        No          Select  Select   \n",
       "1                        No          Select  Select   \n",
       "2                        No  Potential Lead  Mumbai   \n",
       "3                        No          Select  Mumbai   \n",
       "4                        No          Select  Mumbai   \n",
       "\n",
       "  Asymmetrique Activity Index Asymmetrique Profile Index  \\\n",
       "0                   02.Medium                  02.Medium   \n",
       "1                   02.Medium                  02.Medium   \n",
       "2                   02.Medium                    01.High   \n",
       "3                   02.Medium                    01.High   \n",
       "4                   02.Medium                    01.High   \n",
       "\n",
       "  Asymmetrique Activity Score Asymmetrique Profile Score  \\\n",
       "0                        15.0                       15.0   \n",
       "1                        15.0                       15.0   \n",
       "2                        14.0                       20.0   \n",
       "3                        13.0                       17.0   \n",
       "4                        15.0                       18.0   \n",
       "\n",
       "  I agree to pay the amount through cheque  \\\n",
       "0                                       No   \n",
       "1                                       No   \n",
       "2                                       No   \n",
       "3                                       No   \n",
       "4                                       No   \n",
       "\n",
       "  A free copy of Mastering The Interview Last Notable Activity  \n",
       "0                                     No              Modified  \n",
       "1                                     No          Email Opened  \n",
       "2                                    Yes          Email Opened  \n",
       "3                                     No              Modified  \n",
       "4                                     No              Modified  \n",
       "\n",
       "[5 rows x 37 columns]"
      ]
     },
     "execution_count": 4,
     "metadata": {},
     "output_type": "execute_result"
    }
   ],
   "source": [
    "df1.head()"
   ]
  },
  {
   "cell_type": "code",
   "execution_count": 5,
   "id": "6067a08e",
   "metadata": {},
   "outputs": [
    {
     "data": {
      "text/html": [
       "<div>\n",
       "<style scoped>\n",
       "    .dataframe tbody tr th:only-of-type {\n",
       "        vertical-align: middle;\n",
       "    }\n",
       "\n",
       "    .dataframe tbody tr th {\n",
       "        vertical-align: top;\n",
       "    }\n",
       "\n",
       "    .dataframe thead th {\n",
       "        text-align: right;\n",
       "    }\n",
       "</style>\n",
       "<table border=\"1\" class=\"dataframe\">\n",
       "  <thead>\n",
       "    <tr style=\"text-align: right;\">\n",
       "      <th></th>\n",
       "      <th>Prospect ID</th>\n",
       "      <th>Lead Number</th>\n",
       "      <th>Company</th>\n",
       "      <th>Lead Origin</th>\n",
       "      <th>Mobile Number</th>\n",
       "      <th>Website</th>\n",
       "      <th>Time Zone</th>\n",
       "      <th>Job Title</th>\n",
       "      <th>Lead Source</th>\n",
       "      <th>Source Medium</th>\n",
       "      <th>...</th>\n",
       "      <th>Stage Rotting Flag Level</th>\n",
       "      <th>Mailing Preferences</th>\n",
       "      <th>Twitter Id</th>\n",
       "      <th>Facebook Id</th>\n",
       "      <th>LinkedIn Id</th>\n",
       "      <th>Skype Id</th>\n",
       "      <th>Gtalk Id</th>\n",
       "      <th>Google Plus Id</th>\n",
       "      <th>Quality Score 01</th>\n",
       "      <th>Groups</th>\n",
       "    </tr>\n",
       "  </thead>\n",
       "  <tbody>\n",
       "    <tr>\n",
       "      <th>0</th>\n",
       "      <td>7927b2df-8bba-4d29-b9a2-b6e0beafe620</td>\n",
       "      <td>660737</td>\n",
       "      <td>NaN</td>\n",
       "      <td>API</td>\n",
       "      <td>NaN</td>\n",
       "      <td>NaN</td>\n",
       "      <td>NaN</td>\n",
       "      <td>NaN</td>\n",
       "      <td>Olark Chat</td>\n",
       "      <td>NaN</td>\n",
       "      <td>...</td>\n",
       "      <td>NaN</td>\n",
       "      <td>NaN</td>\n",
       "      <td>NaN</td>\n",
       "      <td>NaN</td>\n",
       "      <td>NaN</td>\n",
       "      <td>NaN</td>\n",
       "      <td>NaN</td>\n",
       "      <td>NaN</td>\n",
       "      <td>NaN</td>\n",
       "      <td>NaN</td>\n",
       "    </tr>\n",
       "    <tr>\n",
       "      <th>1</th>\n",
       "      <td>2a272436-5132-4136-86fa-dcc88c88f482</td>\n",
       "      <td>660728</td>\n",
       "      <td>NaN</td>\n",
       "      <td>API</td>\n",
       "      <td>NaN</td>\n",
       "      <td>NaN</td>\n",
       "      <td>NaN</td>\n",
       "      <td>NaN</td>\n",
       "      <td>Organic Search</td>\n",
       "      <td>NaN</td>\n",
       "      <td>...</td>\n",
       "      <td>NaN</td>\n",
       "      <td>NaN</td>\n",
       "      <td>NaN</td>\n",
       "      <td>NaN</td>\n",
       "      <td>NaN</td>\n",
       "      <td>NaN</td>\n",
       "      <td>NaN</td>\n",
       "      <td>NaN</td>\n",
       "      <td>NaN</td>\n",
       "      <td>NaN</td>\n",
       "    </tr>\n",
       "    <tr>\n",
       "      <th>2</th>\n",
       "      <td>8cc8c611-a219-4f35-ad23-fdfd2656bd8a</td>\n",
       "      <td>660727</td>\n",
       "      <td>NaN</td>\n",
       "      <td>Landing Page Submission</td>\n",
       "      <td>NaN</td>\n",
       "      <td>NaN</td>\n",
       "      <td>NaN</td>\n",
       "      <td>NaN</td>\n",
       "      <td>Direct Traffic</td>\n",
       "      <td>NaN</td>\n",
       "      <td>...</td>\n",
       "      <td>NaN</td>\n",
       "      <td>NaN</td>\n",
       "      <td>NaN</td>\n",
       "      <td>NaN</td>\n",
       "      <td>NaN</td>\n",
       "      <td>NaN</td>\n",
       "      <td>NaN</td>\n",
       "      <td>NaN</td>\n",
       "      <td>NaN</td>\n",
       "      <td>NaN</td>\n",
       "    </tr>\n",
       "    <tr>\n",
       "      <th>3</th>\n",
       "      <td>0cc2df48-7cf4-4e39-9de9-19797f9b38cc</td>\n",
       "      <td>660719</td>\n",
       "      <td>NaN</td>\n",
       "      <td>Landing Page Submission</td>\n",
       "      <td>NaN</td>\n",
       "      <td>NaN</td>\n",
       "      <td>NaN</td>\n",
       "      <td>NaN</td>\n",
       "      <td>Direct Traffic</td>\n",
       "      <td>NaN</td>\n",
       "      <td>...</td>\n",
       "      <td>NaN</td>\n",
       "      <td>NaN</td>\n",
       "      <td>NaN</td>\n",
       "      <td>NaN</td>\n",
       "      <td>NaN</td>\n",
       "      <td>NaN</td>\n",
       "      <td>NaN</td>\n",
       "      <td>NaN</td>\n",
       "      <td>NaN</td>\n",
       "      <td>NaN</td>\n",
       "    </tr>\n",
       "    <tr>\n",
       "      <th>4</th>\n",
       "      <td>3256f628-e534-4826-9d63-4a8b88782852</td>\n",
       "      <td>660681</td>\n",
       "      <td>NaN</td>\n",
       "      <td>Landing Page Submission</td>\n",
       "      <td>NaN</td>\n",
       "      <td>NaN</td>\n",
       "      <td>NaN</td>\n",
       "      <td>NaN</td>\n",
       "      <td>Google</td>\n",
       "      <td>CPC</td>\n",
       "      <td>...</td>\n",
       "      <td>NaN</td>\n",
       "      <td>NaN</td>\n",
       "      <td>NaN</td>\n",
       "      <td>NaN</td>\n",
       "      <td>NaN</td>\n",
       "      <td>NaN</td>\n",
       "      <td>NaN</td>\n",
       "      <td>NaN</td>\n",
       "      <td>NaN</td>\n",
       "      <td>NaN</td>\n",
       "    </tr>\n",
       "  </tbody>\n",
       "</table>\n",
       "<p>5 rows × 122 columns</p>\n",
       "</div>"
      ],
      "text/plain": [
       "                            Prospect ID  Lead Number Company  \\\n",
       "0  7927b2df-8bba-4d29-b9a2-b6e0beafe620       660737     NaN   \n",
       "1  2a272436-5132-4136-86fa-dcc88c88f482       660728     NaN   \n",
       "2  8cc8c611-a219-4f35-ad23-fdfd2656bd8a       660727     NaN   \n",
       "3  0cc2df48-7cf4-4e39-9de9-19797f9b38cc       660719     NaN   \n",
       "4  3256f628-e534-4826-9d63-4a8b88782852       660681     NaN   \n",
       "\n",
       "               Lead Origin Mobile Number Website  Time Zone Job Title  \\\n",
       "0                      API           NaN     NaN        NaN       NaN   \n",
       "1                      API           NaN     NaN        NaN       NaN   \n",
       "2  Landing Page Submission           NaN     NaN        NaN       NaN   \n",
       "3  Landing Page Submission           NaN     NaN        NaN       NaN   \n",
       "4  Landing Page Submission           NaN     NaN        NaN       NaN   \n",
       "\n",
       "      Lead Source Source Medium  ... Stage Rotting Flag Level  \\\n",
       "0      Olark Chat           NaN  ...                      NaN   \n",
       "1  Organic Search           NaN  ...                      NaN   \n",
       "2  Direct Traffic           NaN  ...                      NaN   \n",
       "3  Direct Traffic           NaN  ...                      NaN   \n",
       "4          Google           CPC  ...                      NaN   \n",
       "\n",
       "  Mailing Preferences Twitter Id Facebook Id LinkedIn Id Skype Id Gtalk Id  \\\n",
       "0                 NaN        NaN         NaN         NaN      NaN      NaN   \n",
       "1                 NaN        NaN         NaN         NaN      NaN      NaN   \n",
       "2                 NaN        NaN         NaN         NaN      NaN      NaN   \n",
       "3                 NaN        NaN         NaN         NaN      NaN      NaN   \n",
       "4                 NaN        NaN         NaN         NaN      NaN      NaN   \n",
       "\n",
       "   Google Plus Id  Quality Score 01  Groups  \n",
       "0             NaN               NaN     NaN  \n",
       "1             NaN               NaN     NaN  \n",
       "2             NaN               NaN     NaN  \n",
       "3             NaN               NaN     NaN  \n",
       "4             NaN               NaN     NaN  \n",
       "\n",
       "[5 rows x 122 columns]"
      ]
     },
     "execution_count": 5,
     "metadata": {},
     "output_type": "execute_result"
    }
   ],
   "source": [
    "df2.head()"
   ]
  },
  {
   "cell_type": "code",
   "execution_count": 6,
   "id": "d1d5e4f5",
   "metadata": {},
   "outputs": [
    {
     "name": "stdout",
     "output_type": "stream",
     "text": [
      "--- DF1 Info ---\n",
      "<class 'pandas.core.frame.DataFrame'>\n",
      "RangeIndex: 9240 entries, 0 to 9239\n",
      "Data columns (total 37 columns):\n",
      " #   Column                                         Non-Null Count  Dtype  \n",
      "---  ------                                         --------------  -----  \n",
      " 0   Prospect ID                                    9240 non-null   object \n",
      " 1   Lead Number                                    9240 non-null   int64  \n",
      " 2   Lead Origin                                    9240 non-null   object \n",
      " 3   Lead Source                                    9204 non-null   object \n",
      " 4   Do Not Email                                   9240 non-null   object \n",
      " 5   Do Not Call                                    9240 non-null   object \n",
      " 6   Converted                                      9240 non-null   int64  \n",
      " 7   TotalVisits                                    9103 non-null   float64\n",
      " 8   Total Time Spent on Website                    9240 non-null   int64  \n",
      " 9   Page Views Per Visit                           9103 non-null   float64\n",
      " 10  Last Activity                                  9137 non-null   object \n",
      " 11  Country                                        6779 non-null   object \n",
      " 12  Specialization                                 7802 non-null   object \n",
      " 13  How did you hear about X Education             7033 non-null   object \n",
      " 14  What is your current occupation                6550 non-null   object \n",
      " 15  What matters most to you in choosing a course  6531 non-null   object \n",
      " 16  Search                                         9240 non-null   object \n",
      " 17  Magazine                                       9240 non-null   object \n",
      " 18  Newspaper Article                              9240 non-null   object \n",
      " 19  X Education Forums                             9240 non-null   object \n",
      " 20  Newspaper                                      9240 non-null   object \n",
      " 21  Digital Advertisement                          9240 non-null   object \n",
      " 22  Through Recommendations                        9240 non-null   object \n",
      " 23  Receive More Updates About Our Courses         9240 non-null   object \n",
      " 24  Tags                                           5887 non-null   object \n",
      " 25  Lead Quality                                   4473 non-null   object \n",
      " 26  Update me on Supply Chain Content              9240 non-null   object \n",
      " 27  Get updates on DM Content                      9240 non-null   object \n",
      " 28  Lead Profile                                   6531 non-null   object \n",
      " 29  City                                           7820 non-null   object \n",
      " 30  Asymmetrique Activity Index                    5022 non-null   object \n",
      " 31  Asymmetrique Profile Index                     5022 non-null   object \n",
      " 32  Asymmetrique Activity Score                    5022 non-null   float64\n",
      " 33  Asymmetrique Profile Score                     5022 non-null   float64\n",
      " 34  I agree to pay the amount through cheque       9240 non-null   object \n",
      " 35  A free copy of Mastering The Interview         9240 non-null   object \n",
      " 36  Last Notable Activity                          9240 non-null   object \n",
      "dtypes: float64(4), int64(3), object(30)\n",
      "memory usage: 2.6+ MB\n"
     ]
    }
   ],
   "source": [
    "print(\"--- DF1 Info ---\")\n",
    "df1.info()\n",
    "\n"
   ]
  },
  {
   "cell_type": "code",
   "execution_count": 11,
   "id": "59cbf42b",
   "metadata": {},
   "outputs": [
    {
     "name": "stdout",
     "output_type": "stream",
     "text": [
      "DF1 columns containing emails: []\n",
      "DF2 columns containing emails: ['Company', 'Mobile Number', 'Website']\n"
     ]
    }
   ],
   "source": [
    "import re\n",
    "\n",
    "# Basic email pattern\n",
    "email_pattern = r'^[\\w\\.-]+@[\\w\\.-]+\\.\\w{2,}$'\n",
    "\n",
    "def find_email_columns(df):\n",
    "    email_cols = []\n",
    "    for col in df.columns:\n",
    "        # Check only string columns\n",
    "        if df[col].dtype == 'object':\n",
    "            sample_values = df[col].dropna().astype(str).head(500)  # limit for speed\n",
    "            if any(re.match(email_pattern, val.strip()) for val in sample_values if isinstance(val, str)):\n",
    "                email_cols.append(col)\n",
    "    return email_cols\n",
    "\n",
    "# Run on both dataframes\n",
    "email_columns_df1 = find_email_columns(df1)\n",
    "email_columns_df2 = find_email_columns(df2)\n",
    "\n",
    "print(\"DF1 columns containing emails:\", email_columns_df1)\n",
    "print(\"DF2 columns containing emails:\", email_columns_df2)\n"
   ]
  },
  {
   "cell_type": "code",
   "execution_count": 15,
   "id": "1095ac06",
   "metadata": {},
   "outputs": [
    {
     "data": {
      "text/plain": [
       "Index(['Prospect ID', 'Lead Number', 'Company', 'Lead Origin', 'Mobile Number',\n",
       "       'Website', 'Time Zone', 'Job Title', 'Lead Source', 'Source Medium',\n",
       "       ...\n",
       "       'Stage Rotting Flag Level', 'Mailing Preferences', 'Twitter Id',\n",
       "       'Facebook Id', 'LinkedIn Id', 'Skype Id', 'Gtalk Id', 'Google Plus Id',\n",
       "       'Quality Score 01', 'Groups'],\n",
       "      dtype='object', length=122)"
      ]
     },
     "execution_count": 15,
     "metadata": {},
     "output_type": "execute_result"
    }
   ],
   "source": [
    "df2.columns"
   ]
  },
  {
   "cell_type": "code",
   "execution_count": 7,
   "id": "cb286a75",
   "metadata": {},
   "outputs": [
    {
     "name": "stdout",
     "output_type": "stream",
     "text": [
      "\n",
      "--- DF2 Info ---\n",
      "<class 'pandas.core.frame.DataFrame'>\n",
      "RangeIndex: 9240 entries, 0 to 9239\n",
      "Columns: 122 entries, Prospect ID to Groups\n",
      "dtypes: float64(34), int64(3), object(85)\n",
      "memory usage: 8.6+ MB\n"
     ]
    }
   ],
   "source": [
    "print(\"\\n--- DF2 Info ---\")\n",
    "df2.info()"
   ]
  },
  {
   "cell_type": "code",
   "execution_count": 8,
   "id": "40816420",
   "metadata": {},
   "outputs": [
    {
     "name": "stdout",
     "output_type": "stream",
     "text": [
      "\n",
      "Columns only in DF1: ['A free copy of Mastering The Interview', 'City', 'Converted', 'Get updates on DM Content', 'How did you hear about X Education', 'Total Time Spent on Website', 'What matters most to you in choosing a course', 'X Education Forums']\n",
      "Columns only in DF2: ['Address 1', 'Address 2', 'Admission Constraints', 'Admission Date', 'Admission Number', 'Age', 'Any other Please specify', 'Asym How do you feel about taking admission', 'Asym What are your concerns for taking admission', 'Asym What is your expectation from this course', 'Asym What stopping you from joining course', 'Asym how soon you can join program', 'Asym preferences for selecting management course', 'Asymm Are you applying for any other form of MBA', 'Asymm Are you aware about SomeSchool College', 'Asymm Reason to take admission', 'Asymmetrique Scoring Model', 'Average Time Per Visit', 'Chat Group', 'City New', 'Cityold', 'Company', 'Country New', 'Course Interested', 'Created On', 'Date', 'Engagement Score', 'Enquiry Type', 'Entrance Test', 'Facebook Id', 'Facebook URL', 'First Landing Page Submission Date', 'First Landing Page Submission Id', 'Get updates on PGDMHBSCM', 'Google Plus Id', 'Groups', 'Gtalk Id', 'How did you hear about SomeSchool', 'If you are a working professional', 'If you are a working professional please mention ', 'Industry', 'Industry New', 'Job Title', 'Keyword', 'Landing Page', 'Last Activity Date', 'Last Degree', 'Last Notable Activity Date', 'Last Visit Date', 'Lead Conversion Date', 'Lead Grade', 'Lead Score', 'Lead Stage', 'Lead Type', 'LinkedIn Id', 'LinkedIn URL', 'Mailing Preferences', 'Mobile Number', 'Modified On', 'Next Follow Up', 'Notes', 'Number of Followup Calls', 'Order Value', 'Photo Url', 'Previous Stage', 'Profile Score', 'Quality Score 01', 'Related Landing Page Id', 'Skype Id', 'Source Campaign', 'Source Content', 'Source Medium', 'Source Referrer', 'Stage Rotting Flag Additional Info', 'Stage Rotting Flag Level', 'Stage Rotting Flag Message', 'Stage Rotting Flag Modification Date', 'Stage Rotting Flag Status', 'State', 'Time Zone', 'Twitter Id', 'Twitter URL', 'Website', 'Welearn Forums', 'What attracted you to consider SomeSchool ', 'What matters most to you in choosing an ADP', 'Work Area', 'Zip', 'a free copy of Mastering The Interview', 'amt', 'ecode', 'eventname', 'you to consider SomeSchool ']\n",
      "Common columns: ['Prospect ID', 'Lead Number', 'Lead Origin', 'Lead Source', 'Do Not Email', 'Do Not Call', 'TotalVisits', 'Page Views Per Visit', 'Last Activity', 'Country', 'Specialization', 'What is your current occupation', 'Search', 'Magazine', 'Newspaper Article', 'Newspaper', 'Digital Advertisement', 'Through Recommendations', 'Receive More Updates About Our Courses', 'Tags', 'Lead Quality', 'Update me on Supply Chain Content', 'Lead Profile', 'Asymmetrique Activity Index', 'Asymmetrique Profile Index', 'Asymmetrique Activity Score', 'Asymmetrique Profile Score', 'I agree to pay the amount through cheque', 'Last Notable Activity']\n",
      "\n",
      "--- Data Type Comparison (Common Columns) ---\n",
      "Column 'Prospect ID': DF1 Type = object, DF2 Type = object\n",
      "Column 'Lead Number': DF1 Type = int64, DF2 Type = int64\n",
      "Column 'Lead Origin': DF1 Type = object, DF2 Type = object\n",
      "Column 'Lead Source': DF1 Type = object, DF2 Type = object\n",
      "Column 'Do Not Email': DF1 Type = object, DF2 Type = object\n",
      "Column 'Do Not Call': DF1 Type = object, DF2 Type = object\n",
      "Column 'TotalVisits': DF1 Type = float64, DF2 Type = float64\n",
      "Column 'Page Views Per Visit': DF1 Type = float64, DF2 Type = float64\n",
      "Column 'Last Activity': DF1 Type = object, DF2 Type = object\n",
      "Column 'Country': DF1 Type = object, DF2 Type = object\n",
      "Column 'Specialization': DF1 Type = object, DF2 Type = object\n",
      "Column 'What is your current occupation': DF1 Type = object, DF2 Type = object\n",
      "Column 'Search': DF1 Type = object, DF2 Type = object\n",
      "Column 'Magazine': DF1 Type = object, DF2 Type = object\n",
      "Column 'Newspaper Article': DF1 Type = object, DF2 Type = object\n",
      "Column 'Newspaper': DF1 Type = object, DF2 Type = object\n",
      "Column 'Digital Advertisement': DF1 Type = object, DF2 Type = object\n",
      "Column 'Through Recommendations': DF1 Type = object, DF2 Type = object\n",
      "Column 'Receive More Updates About Our Courses': DF1 Type = object, DF2 Type = object\n",
      "Column 'Tags': DF1 Type = object, DF2 Type = object\n",
      "Column 'Lead Quality': DF1 Type = object, DF2 Type = object\n",
      "Column 'Update me on Supply Chain Content': DF1 Type = object, DF2 Type = object\n",
      "Column 'Lead Profile': DF1 Type = object, DF2 Type = object\n",
      "Column 'Asymmetrique Activity Index': DF1 Type = object, DF2 Type = object\n",
      "Column 'Asymmetrique Profile Index': DF1 Type = object, DF2 Type = object\n",
      "Column 'Asymmetrique Activity Score': DF1 Type = float64, DF2 Type = float64\n",
      "Column 'Asymmetrique Profile Score': DF1 Type = float64, DF2 Type = float64\n",
      "Column 'I agree to pay the amount through cheque': DF1 Type = object, DF2 Type = object\n",
      "Column 'Last Notable Activity': DF1 Type = object, DF2 Type = object\n",
      "\n",
      "--- DF1 Head ---\n",
      "                            Prospect ID  Lead Number              Lead Origin  \\\n",
      "0  7927b2df-8bba-4d29-b9a2-b6e0beafe620       660737                      API   \n",
      "1  2a272436-5132-4136-86fa-dcc88c88f482       660728                      API   \n",
      "2  8cc8c611-a219-4f35-ad23-fdfd2656bd8a       660727  Landing Page Submission   \n",
      "3  0cc2df48-7cf4-4e39-9de9-19797f9b38cc       660719  Landing Page Submission   \n",
      "4  3256f628-e534-4826-9d63-4a8b88782852       660681  Landing Page Submission   \n",
      "\n",
      "      Lead Source Do Not Email Do Not Call  Converted  TotalVisits  \\\n",
      "0      Olark Chat           No          No          0          0.0   \n",
      "1  Organic Search           No          No          0          5.0   \n",
      "2  Direct Traffic           No          No          1          2.0   \n",
      "3  Direct Traffic           No          No          0          1.0   \n",
      "4          Google           No          No          1          2.0   \n",
      "\n",
      "   Total Time Spent on Website  Page Views Per Visit  ...  \\\n",
      "0                            0                   0.0  ...   \n",
      "1                          674                   2.5  ...   \n",
      "2                         1532                   2.0  ...   \n",
      "3                          305                   1.0  ...   \n",
      "4                         1428                   1.0  ...   \n",
      "\n",
      "  Get updates on DM Content    Lead Profile    City  \\\n",
      "0                        No          Select  Select   \n",
      "1                        No          Select  Select   \n",
      "2                        No  Potential Lead  Mumbai   \n",
      "3                        No          Select  Mumbai   \n",
      "4                        No          Select  Mumbai   \n",
      "\n",
      "  Asymmetrique Activity Index Asymmetrique Profile Index  \\\n",
      "0                   02.Medium                  02.Medium   \n",
      "1                   02.Medium                  02.Medium   \n",
      "2                   02.Medium                    01.High   \n",
      "3                   02.Medium                    01.High   \n",
      "4                   02.Medium                    01.High   \n",
      "\n",
      "  Asymmetrique Activity Score Asymmetrique Profile Score  \\\n",
      "0                        15.0                       15.0   \n",
      "1                        15.0                       15.0   \n",
      "2                        14.0                       20.0   \n",
      "3                        13.0                       17.0   \n",
      "4                        15.0                       18.0   \n",
      "\n",
      "  I agree to pay the amount through cheque  \\\n",
      "0                                       No   \n",
      "1                                       No   \n",
      "2                                       No   \n",
      "3                                       No   \n",
      "4                                       No   \n",
      "\n",
      "  A free copy of Mastering The Interview Last Notable Activity  \n",
      "0                                     No              Modified  \n",
      "1                                     No          Email Opened  \n",
      "2                                    Yes          Email Opened  \n",
      "3                                     No              Modified  \n",
      "4                                     No              Modified  \n",
      "\n",
      "[5 rows x 37 columns]\n",
      "\n",
      "--- DF2 Head ---\n",
      "                            Prospect ID  Lead Number Company  \\\n",
      "0  7927b2df-8bba-4d29-b9a2-b6e0beafe620       660737     NaN   \n",
      "1  2a272436-5132-4136-86fa-dcc88c88f482       660728     NaN   \n",
      "2  8cc8c611-a219-4f35-ad23-fdfd2656bd8a       660727     NaN   \n",
      "3  0cc2df48-7cf4-4e39-9de9-19797f9b38cc       660719     NaN   \n",
      "4  3256f628-e534-4826-9d63-4a8b88782852       660681     NaN   \n",
      "\n",
      "               Lead Origin Mobile Number Website  Time Zone Job Title  \\\n",
      "0                      API           NaN     NaN        NaN       NaN   \n",
      "1                      API           NaN     NaN        NaN       NaN   \n",
      "2  Landing Page Submission           NaN     NaN        NaN       NaN   \n",
      "3  Landing Page Submission           NaN     NaN        NaN       NaN   \n",
      "4  Landing Page Submission           NaN     NaN        NaN       NaN   \n",
      "\n",
      "      Lead Source Source Medium  ... Stage Rotting Flag Level  \\\n",
      "0      Olark Chat           NaN  ...                      NaN   \n",
      "1  Organic Search           NaN  ...                      NaN   \n",
      "2  Direct Traffic           NaN  ...                      NaN   \n",
      "3  Direct Traffic           NaN  ...                      NaN   \n",
      "4          Google           CPC  ...                      NaN   \n",
      "\n",
      "  Mailing Preferences Twitter Id Facebook Id LinkedIn Id Skype Id Gtalk Id  \\\n",
      "0                 NaN        NaN         NaN         NaN      NaN      NaN   \n",
      "1                 NaN        NaN         NaN         NaN      NaN      NaN   \n",
      "2                 NaN        NaN         NaN         NaN      NaN      NaN   \n",
      "3                 NaN        NaN         NaN         NaN      NaN      NaN   \n",
      "4                 NaN        NaN         NaN         NaN      NaN      NaN   \n",
      "\n",
      "   Google Plus Id  Quality Score 01  Groups  \n",
      "0             NaN               NaN     NaN  \n",
      "1             NaN               NaN     NaN  \n",
      "2             NaN               NaN     NaN  \n",
      "3             NaN               NaN     NaN  \n",
      "4             NaN               NaN     NaN  \n",
      "\n",
      "[5 rows x 122 columns]\n"
     ]
    }
   ],
   "source": [
    "\n",
    "# Find columns unique to each DataFrame\n",
    "cols_df1_only = df1.columns.difference(df2.columns)\n",
    "cols_df2_only = df2.columns.difference(df1.columns)\n",
    "common_cols = df1.columns.intersection(df2.columns)\n",
    "\n",
    "print(f\"\\nColumns only in DF1: {list(cols_df1_only)}\")\n",
    "print(f\"Columns only in DF2: {list(cols_df2_only)}\")\n",
    "print(f\"Common columns: {list(common_cols)}\")\n",
    "\n",
    "# Compare data types for common columns\n",
    "print(\"\\n--- Data Type Comparison (Common Columns) ---\")\n",
    "for col in common_cols:\n",
    "    print(f\"Column '{col}': DF1 Type = {df1[col].dtype}, DF2 Type = {df2[col].dtype}\")\n",
    "\n",
    "# Look at the first few rows to get a feel for the data\n",
    "print(\"\\n--- DF1 Head ---\")\n",
    "print(df1.head())\n",
    "print(\"\\n--- DF2 Head ---\")\n",
    "print(df2.head())\n",
    "\n",
    "# Check unique values in a key categorical column (example)\n",
    "# Replace 'Status' with an actual relevant column name if different\n",
    "# if 'Status' in common_cols:\n",
    "#     print(\"\\n--- Unique 'Status' Values ---\")\n",
    "#     print(f\"DF1: {df1['Status'].unique()}\")\n",
    "#     print(f\"DF2: {df2['Status'].unique()}\")"
   ]
  },
  {
   "cell_type": "markdown",
   "id": "de219d79",
   "metadata": {},
   "source": [
    "# Better Visualization"
   ]
  },
  {
   "cell_type": "code",
   "execution_count": 10,
   "id": "56a49762",
   "metadata": {},
   "outputs": [
    {
     "name": "stdout",
     "output_type": "stream",
     "text": [
      "--- DF1 ---\n",
      "Total columns: 37, Total rows: 9240\n",
      "Overall sparsity: 12.0%\n",
      "Fully filled columns (20): ['Do Not Email', 'Lead Origin', 'Lead Number', 'Prospect ID', 'Newspaper', 'X Education Forums', 'Newspaper Article', 'Magazine', 'Search', 'Total Time Spent on Website', 'Do Not Call', 'Converted', 'Get updates on DM Content', 'Update me on Supply Chain Content', 'Through Recommendations', 'Receive More Updates About Our Courses', 'Digital Advertisement', 'I agree to pay the amount through cheque', 'A free copy of Mastering The Interview', 'Last Notable Activity']\n"
     ]
    },
    {
     "data": {
      "application/vnd.plotly.v1+json": {
       "config": {
        "plotlyServerURL": "https://plot.ly"
       },
       "data": [
        {
         "customdata": {
          "bdata": "nxIAAHoQAAB6EAAAehAAAHoQAAAZDQAAlQoAAJUKAACCCgAAnQkAAJ8IAACeBQAAjAUAAIkAAACJAAAAZwAAACQAAAAAAAAAAAAAAAAAAAAAAAAAAAAAAAAAAAAAAAAAAAAAAAAAAAAAAAAAAAAAAAAAAAAAAAAAAAAAAAAAAAAAAAAAAAAAAAAAAAAAAAAAAAAAAA==",
          "dtype": "i2",
          "shape": "37, 2"
         },
         "hovertemplate": "Column=%{x}<br>Sparsity (%)=%{y}<br>Missing Count=%{customdata[0]}<br>Empty String Count=%{customdata[1]}<extra></extra>",
         "legendgroup": "",
         "marker": {
          "color": "#636efa",
          "pattern": {
           "shape": ""
          }
         },
         "name": "",
         "orientation": "v",
         "showlegend": false,
         "textposition": "auto",
         "type": "bar",
         "x": [
          "Lead Quality",
          "Asymmetrique Profile Index",
          "Asymmetrique Activity Score",
          "Asymmetrique Activity Index",
          "Asymmetrique Profile Score",
          "Tags",
          "What matters most to you in choosing a course",
          "Lead Profile",
          "What is your current occupation",
          "Country",
          "How did you hear about X Education",
          "Specialization",
          "City",
          "Page Views Per Visit",
          "TotalVisits",
          "Last Activity",
          "Lead Source",
          "Do Not Email",
          "Lead Origin",
          "Lead Number",
          "Prospect ID",
          "Newspaper",
          "X Education Forums",
          "Newspaper Article",
          "Magazine",
          "Search",
          "Total Time Spent on Website",
          "Do Not Call",
          "Converted",
          "Get updates on DM Content",
          "Update me on Supply Chain Content",
          "Through Recommendations",
          "Receive More Updates About Our Courses",
          "Digital Advertisement",
          "I agree to pay the amount through cheque",
          "A free copy of Mastering The Interview",
          "Last Notable Activity"
         ],
         "xaxis": "x",
         "y": {
          "bdata": "gjwlyFOC4D9cdk6KMDfdP1x2ToowN90/XHZOijA33T9cdk6KMDfdPzl/lvNnOdc/w9o3rH3D0j/D2jesfcPSPzSHigXNodI/MGKXR78L0T+3FwegupLOP6LhAtGb68M/Ga9OX8arwz/wQkbBiF2OP/BCRsGIXY4/i4SO/1XUhj99RBnauOpvPwAAAAAAAAAAAAAAAAAAAAAAAAAAAAAAAAAAAAAAAAAAAAAAAAAAAAAAAAAAAAAAAAAAAAAAAAAAAAAAAAAAAAAAAAAAAAAAAAAAAAAAAAAAAAAAAAAAAAAAAAAAAAAAAAAAAAAAAAAAAAAAAAAAAAAAAAAAAAAAAAAAAAAAAAAAAAAAAAAAAAAAAAAAAAAAAAAAAAAAAAAAAAAAAAAAAAA=",
          "dtype": "f8"
         },
         "yaxis": "y"
        }
       ],
       "layout": {
        "barmode": "relative",
        "height": 600,
        "legend": {
         "tracegroupgap": 0
        },
        "template": {
         "data": {
          "bar": [
           {
            "error_x": {
             "color": "#2a3f5f"
            },
            "error_y": {
             "color": "#2a3f5f"
            },
            "marker": {
             "line": {
              "color": "#E5ECF6",
              "width": 0.5
             },
             "pattern": {
              "fillmode": "overlay",
              "size": 10,
              "solidity": 0.2
             }
            },
            "type": "bar"
           }
          ],
          "barpolar": [
           {
            "marker": {
             "line": {
              "color": "#E5ECF6",
              "width": 0.5
             },
             "pattern": {
              "fillmode": "overlay",
              "size": 10,
              "solidity": 0.2
             }
            },
            "type": "barpolar"
           }
          ],
          "carpet": [
           {
            "aaxis": {
             "endlinecolor": "#2a3f5f",
             "gridcolor": "white",
             "linecolor": "white",
             "minorgridcolor": "white",
             "startlinecolor": "#2a3f5f"
            },
            "baxis": {
             "endlinecolor": "#2a3f5f",
             "gridcolor": "white",
             "linecolor": "white",
             "minorgridcolor": "white",
             "startlinecolor": "#2a3f5f"
            },
            "type": "carpet"
           }
          ],
          "choropleth": [
           {
            "colorbar": {
             "outlinewidth": 0,
             "ticks": ""
            },
            "type": "choropleth"
           }
          ],
          "contour": [
           {
            "colorbar": {
             "outlinewidth": 0,
             "ticks": ""
            },
            "colorscale": [
             [
              0,
              "#0d0887"
             ],
             [
              0.1111111111111111,
              "#46039f"
             ],
             [
              0.2222222222222222,
              "#7201a8"
             ],
             [
              0.3333333333333333,
              "#9c179e"
             ],
             [
              0.4444444444444444,
              "#bd3786"
             ],
             [
              0.5555555555555556,
              "#d8576b"
             ],
             [
              0.6666666666666666,
              "#ed7953"
             ],
             [
              0.7777777777777778,
              "#fb9f3a"
             ],
             [
              0.8888888888888888,
              "#fdca26"
             ],
             [
              1,
              "#f0f921"
             ]
            ],
            "type": "contour"
           }
          ],
          "contourcarpet": [
           {
            "colorbar": {
             "outlinewidth": 0,
             "ticks": ""
            },
            "type": "contourcarpet"
           }
          ],
          "heatmap": [
           {
            "colorbar": {
             "outlinewidth": 0,
             "ticks": ""
            },
            "colorscale": [
             [
              0,
              "#0d0887"
             ],
             [
              0.1111111111111111,
              "#46039f"
             ],
             [
              0.2222222222222222,
              "#7201a8"
             ],
             [
              0.3333333333333333,
              "#9c179e"
             ],
             [
              0.4444444444444444,
              "#bd3786"
             ],
             [
              0.5555555555555556,
              "#d8576b"
             ],
             [
              0.6666666666666666,
              "#ed7953"
             ],
             [
              0.7777777777777778,
              "#fb9f3a"
             ],
             [
              0.8888888888888888,
              "#fdca26"
             ],
             [
              1,
              "#f0f921"
             ]
            ],
            "type": "heatmap"
           }
          ],
          "histogram": [
           {
            "marker": {
             "pattern": {
              "fillmode": "overlay",
              "size": 10,
              "solidity": 0.2
             }
            },
            "type": "histogram"
           }
          ],
          "histogram2d": [
           {
            "colorbar": {
             "outlinewidth": 0,
             "ticks": ""
            },
            "colorscale": [
             [
              0,
              "#0d0887"
             ],
             [
              0.1111111111111111,
              "#46039f"
             ],
             [
              0.2222222222222222,
              "#7201a8"
             ],
             [
              0.3333333333333333,
              "#9c179e"
             ],
             [
              0.4444444444444444,
              "#bd3786"
             ],
             [
              0.5555555555555556,
              "#d8576b"
             ],
             [
              0.6666666666666666,
              "#ed7953"
             ],
             [
              0.7777777777777778,
              "#fb9f3a"
             ],
             [
              0.8888888888888888,
              "#fdca26"
             ],
             [
              1,
              "#f0f921"
             ]
            ],
            "type": "histogram2d"
           }
          ],
          "histogram2dcontour": [
           {
            "colorbar": {
             "outlinewidth": 0,
             "ticks": ""
            },
            "colorscale": [
             [
              0,
              "#0d0887"
             ],
             [
              0.1111111111111111,
              "#46039f"
             ],
             [
              0.2222222222222222,
              "#7201a8"
             ],
             [
              0.3333333333333333,
              "#9c179e"
             ],
             [
              0.4444444444444444,
              "#bd3786"
             ],
             [
              0.5555555555555556,
              "#d8576b"
             ],
             [
              0.6666666666666666,
              "#ed7953"
             ],
             [
              0.7777777777777778,
              "#fb9f3a"
             ],
             [
              0.8888888888888888,
              "#fdca26"
             ],
             [
              1,
              "#f0f921"
             ]
            ],
            "type": "histogram2dcontour"
           }
          ],
          "mesh3d": [
           {
            "colorbar": {
             "outlinewidth": 0,
             "ticks": ""
            },
            "type": "mesh3d"
           }
          ],
          "parcoords": [
           {
            "line": {
             "colorbar": {
              "outlinewidth": 0,
              "ticks": ""
             }
            },
            "type": "parcoords"
           }
          ],
          "pie": [
           {
            "automargin": true,
            "type": "pie"
           }
          ],
          "scatter": [
           {
            "fillpattern": {
             "fillmode": "overlay",
             "size": 10,
             "solidity": 0.2
            },
            "type": "scatter"
           }
          ],
          "scatter3d": [
           {
            "line": {
             "colorbar": {
              "outlinewidth": 0,
              "ticks": ""
             }
            },
            "marker": {
             "colorbar": {
              "outlinewidth": 0,
              "ticks": ""
             }
            },
            "type": "scatter3d"
           }
          ],
          "scattercarpet": [
           {
            "marker": {
             "colorbar": {
              "outlinewidth": 0,
              "ticks": ""
             }
            },
            "type": "scattercarpet"
           }
          ],
          "scattergeo": [
           {
            "marker": {
             "colorbar": {
              "outlinewidth": 0,
              "ticks": ""
             }
            },
            "type": "scattergeo"
           }
          ],
          "scattergl": [
           {
            "marker": {
             "colorbar": {
              "outlinewidth": 0,
              "ticks": ""
             }
            },
            "type": "scattergl"
           }
          ],
          "scattermap": [
           {
            "marker": {
             "colorbar": {
              "outlinewidth": 0,
              "ticks": ""
             }
            },
            "type": "scattermap"
           }
          ],
          "scattermapbox": [
           {
            "marker": {
             "colorbar": {
              "outlinewidth": 0,
              "ticks": ""
             }
            },
            "type": "scattermapbox"
           }
          ],
          "scatterpolar": [
           {
            "marker": {
             "colorbar": {
              "outlinewidth": 0,
              "ticks": ""
             }
            },
            "type": "scatterpolar"
           }
          ],
          "scatterpolargl": [
           {
            "marker": {
             "colorbar": {
              "outlinewidth": 0,
              "ticks": ""
             }
            },
            "type": "scatterpolargl"
           }
          ],
          "scatterternary": [
           {
            "marker": {
             "colorbar": {
              "outlinewidth": 0,
              "ticks": ""
             }
            },
            "type": "scatterternary"
           }
          ],
          "surface": [
           {
            "colorbar": {
             "outlinewidth": 0,
             "ticks": ""
            },
            "colorscale": [
             [
              0,
              "#0d0887"
             ],
             [
              0.1111111111111111,
              "#46039f"
             ],
             [
              0.2222222222222222,
              "#7201a8"
             ],
             [
              0.3333333333333333,
              "#9c179e"
             ],
             [
              0.4444444444444444,
              "#bd3786"
             ],
             [
              0.5555555555555556,
              "#d8576b"
             ],
             [
              0.6666666666666666,
              "#ed7953"
             ],
             [
              0.7777777777777778,
              "#fb9f3a"
             ],
             [
              0.8888888888888888,
              "#fdca26"
             ],
             [
              1,
              "#f0f921"
             ]
            ],
            "type": "surface"
           }
          ],
          "table": [
           {
            "cells": {
             "fill": {
              "color": "#EBF0F8"
             },
             "line": {
              "color": "white"
             }
            },
            "header": {
             "fill": {
              "color": "#C8D4E3"
             },
             "line": {
              "color": "white"
             }
            },
            "type": "table"
           }
          ]
         },
         "layout": {
          "annotationdefaults": {
           "arrowcolor": "#2a3f5f",
           "arrowhead": 0,
           "arrowwidth": 1
          },
          "autotypenumbers": "strict",
          "coloraxis": {
           "colorbar": {
            "outlinewidth": 0,
            "ticks": ""
           }
          },
          "colorscale": {
           "diverging": [
            [
             0,
             "#8e0152"
            ],
            [
             0.1,
             "#c51b7d"
            ],
            [
             0.2,
             "#de77ae"
            ],
            [
             0.3,
             "#f1b6da"
            ],
            [
             0.4,
             "#fde0ef"
            ],
            [
             0.5,
             "#f7f7f7"
            ],
            [
             0.6,
             "#e6f5d0"
            ],
            [
             0.7,
             "#b8e186"
            ],
            [
             0.8,
             "#7fbc41"
            ],
            [
             0.9,
             "#4d9221"
            ],
            [
             1,
             "#276419"
            ]
           ],
           "sequential": [
            [
             0,
             "#0d0887"
            ],
            [
             0.1111111111111111,
             "#46039f"
            ],
            [
             0.2222222222222222,
             "#7201a8"
            ],
            [
             0.3333333333333333,
             "#9c179e"
            ],
            [
             0.4444444444444444,
             "#bd3786"
            ],
            [
             0.5555555555555556,
             "#d8576b"
            ],
            [
             0.6666666666666666,
             "#ed7953"
            ],
            [
             0.7777777777777778,
             "#fb9f3a"
            ],
            [
             0.8888888888888888,
             "#fdca26"
            ],
            [
             1,
             "#f0f921"
            ]
           ],
           "sequentialminus": [
            [
             0,
             "#0d0887"
            ],
            [
             0.1111111111111111,
             "#46039f"
            ],
            [
             0.2222222222222222,
             "#7201a8"
            ],
            [
             0.3333333333333333,
             "#9c179e"
            ],
            [
             0.4444444444444444,
             "#bd3786"
            ],
            [
             0.5555555555555556,
             "#d8576b"
            ],
            [
             0.6666666666666666,
             "#ed7953"
            ],
            [
             0.7777777777777778,
             "#fb9f3a"
            ],
            [
             0.8888888888888888,
             "#fdca26"
            ],
            [
             1,
             "#f0f921"
            ]
           ]
          },
          "colorway": [
           "#636efa",
           "#EF553B",
           "#00cc96",
           "#ab63fa",
           "#FFA15A",
           "#19d3f3",
           "#FF6692",
           "#B6E880",
           "#FF97FF",
           "#FECB52"
          ],
          "font": {
           "color": "#2a3f5f"
          },
          "geo": {
           "bgcolor": "white",
           "lakecolor": "white",
           "landcolor": "#E5ECF6",
           "showlakes": true,
           "showland": true,
           "subunitcolor": "white"
          },
          "hoverlabel": {
           "align": "left"
          },
          "hovermode": "closest",
          "mapbox": {
           "style": "light"
          },
          "paper_bgcolor": "white",
          "plot_bgcolor": "#E5ECF6",
          "polar": {
           "angularaxis": {
            "gridcolor": "white",
            "linecolor": "white",
            "ticks": ""
           },
           "bgcolor": "#E5ECF6",
           "radialaxis": {
            "gridcolor": "white",
            "linecolor": "white",
            "ticks": ""
           }
          },
          "scene": {
           "xaxis": {
            "backgroundcolor": "#E5ECF6",
            "gridcolor": "white",
            "gridwidth": 2,
            "linecolor": "white",
            "showbackground": true,
            "ticks": "",
            "zerolinecolor": "white"
           },
           "yaxis": {
            "backgroundcolor": "#E5ECF6",
            "gridcolor": "white",
            "gridwidth": 2,
            "linecolor": "white",
            "showbackground": true,
            "ticks": "",
            "zerolinecolor": "white"
           },
           "zaxis": {
            "backgroundcolor": "#E5ECF6",
            "gridcolor": "white",
            "gridwidth": 2,
            "linecolor": "white",
            "showbackground": true,
            "ticks": "",
            "zerolinecolor": "white"
           }
          },
          "shapedefaults": {
           "line": {
            "color": "#2a3f5f"
           }
          },
          "ternary": {
           "aaxis": {
            "gridcolor": "white",
            "linecolor": "white",
            "ticks": ""
           },
           "baxis": {
            "gridcolor": "white",
            "linecolor": "white",
            "ticks": ""
           },
           "bgcolor": "#E5ECF6",
           "caxis": {
            "gridcolor": "white",
            "linecolor": "white",
            "ticks": ""
           }
          },
          "title": {
           "x": 0.05
          },
          "xaxis": {
           "automargin": true,
           "gridcolor": "white",
           "linecolor": "white",
           "ticks": "",
           "title": {
            "standoff": 15
           },
           "zerolinecolor": "white",
           "zerolinewidth": 2
          },
          "yaxis": {
           "automargin": true,
           "gridcolor": "white",
           "linecolor": "white",
           "ticks": "",
           "title": {
            "standoff": 15
           },
           "zerolinecolor": "white",
           "zerolinewidth": 2
          }
         }
        },
        "title": {
         "text": "Sparsity per Column in DF1"
        },
        "xaxis": {
         "anchor": "y",
         "domain": [
          0,
          1
         ],
         "tickangle": 45,
         "title": {
          "text": "Column"
         }
        },
        "yaxis": {
         "anchor": "x",
         "domain": [
          0,
          1
         ],
         "tickformat": ".0%",
         "title": {
          "text": "Sparsity (%)"
         }
        }
       }
      }
     },
     "metadata": {},
     "output_type": "display_data"
    },
    {
     "name": "stdout",
     "output_type": "stream",
     "text": [
      "--- DF2 ---\n",
      "Total columns: 122, Total rows: 9240\n",
      "Overall sparsity: 52.1%\n",
      "Fully filled columns (24): ['Lead Origin', 'Lead Number', 'Prospect ID', 'Do Not Email', 'Lead Score', 'Lead Stage', 'Do Not Call', 'Engagement Score', 'Welearn Forums', 'Newspaper Article', 'Magazine', 'Search', 'Created On', 'Modified On', 'Get updates on PGDMHBSCM', 'Update me on Supply Chain Content', 'I agree to pay the amount through cheque', 'Newspaper', 'Digital Advertisement', 'Through Recommendations', 'Receive More Updates About Our Courses', 'Last Notable Activity Date', 'a free copy of Mastering The Interview', 'Last Notable Activity']\n"
     ]
    },
    {
     "data": {
      "application/vnd.plotly.v1+json": {
       "config": {
        "plotlyServerURL": "https://plot.ly"
       },
       "data": [
        {
         "customdata": {
          "bdata": "GCQAABgkAAAYJAAAGCQAABgkAAAYJAAAGCQAABgkAAAYJAAAGCQAABgkAAAYJAAAGCQAABgkAAAYJAAAGCQAABgkAAAYJAAAGCQAABgkAAAYJAAAGCQAABgkAAAYJAAAGCQAABgkAAAXJAAAFyQAABUkAAALJAAAASQAAAAkAAD8IwAA9yMAAPQjAADzIwAA8yMAAPIjAADiIwAAyyMAAKwjAADaIgAA2SIAACgiAAAJIgAAsSAAAHsgAAC1HgAAiB0AAOkYAACaGAAAmhgAAO0XAACfEgAAFBEAAAMRAAADEQAAAxEAAHoQAAB6EAAAehAAAHoQAAB6EAAAGQ0AAOkLAACWCgAAlQoAAJUKAACVCgAAlQoAAJUKAACVCgAAlQoAAJUKAACVCgAAlQoAAJUKAACVCgAAlQoAAIQKAACDCgAAggoAAN8JAAC7CQAAugkAALoJAACwCQAAnQkAAJ8IAACeBQAAjAUAAI4AAACJAAAAiQAAAGcAAABnAAAAZwAAACQAAAAAAAAAAAAAAAAAAAAAAAAAAAAAAAAAAAAAAAAAAAAAAAAAAAAAAAAAAAAAAAAAAAAAAAAAAAAAAAAAAAAAAAAAAAAAAAAAAAAAAAAAAAAAAAAAAAAAAAAAAAAAAAAAAAA=",
          "dtype": "i2",
          "shape": "122, 2"
         },
         "hovertemplate": "Column=%{x}<br>Sparsity (%)=%{y}<br>Missing Count=%{customdata[0]}<br>Empty String Count=%{customdata[1]}<extra></extra>",
         "legendgroup": "",
         "marker": {
          "color": "#636efa",
          "pattern": {
           "shape": ""
          }
         },
         "name": "",
         "orientation": "v",
         "showlegend": false,
         "textposition": "auto",
         "type": "bar",
         "x": [
          "Time Zone",
          "Order Value",
          "Work Area",
          "Keyword",
          "Facebook URL",
          "Twitter URL",
          "LinkedIn URL",
          "Industry",
          "Address 1",
          "Photo Url",
          "Landing Page",
          "Groups",
          "Google Plus Id",
          "Quality Score 01",
          "Skype Id",
          "LinkedIn Id",
          "Facebook Id",
          "Gtalk Id",
          "Twitter Id",
          "Mailing Preferences",
          "Stage Rotting Flag Additional Info",
          "Stage Rotting Flag Level",
          "Stage Rotting Flag Modification Date",
          "Stage Rotting Flag Message",
          "Stage Rotting Flag Status",
          "Enquiry Type",
          "What attracted you to consider SomeSchool ",
          "Next Follow Up",
          "Address 2",
          "Any other Please specify",
          "Job Title",
          "Website",
          "Mobile Number",
          "Zip",
          "Lead Type",
          "amt",
          "eventname",
          "ecode",
          "Date",
          "Course Interested",
          "Source Referrer",
          "Company",
          "Admission Date",
          "Last Degree",
          "Admission Number",
          "Profile Score",
          "Admission Constraints",
          "Notes",
          "Lead Grade",
          "Source Content",
          "Source Campaign",
          "Source Medium",
          "Chat Group",
          "Lead Quality",
          "State",
          "First Landing Page Submission Date",
          "First Landing Page Submission Id",
          "Related Landing Page Id",
          "Asymmetrique Scoring Model",
          "Asymmetrique Profile Score",
          "Asymmetrique Activity Score",
          "Asymmetrique Activity Index",
          "Asymmetrique Profile Index",
          "Tags",
          "Cityold",
          "you to consider SomeSchool ",
          "Asym preferences for selecting management course",
          "Asym What are your concerns for taking admission",
          "Asym What stopping you from joining course",
          "Industry New",
          "Number of Followup Calls",
          "Previous Stage",
          "Asymm Are you applying for any other form of MBA",
          "Asym How do you feel about taking admission",
          "Age",
          "What matters most to you in choosing an ADP",
          "Lead Profile",
          "If you are a working professional",
          "Country New",
          "Entrance Test",
          "If you are a working professional please mention ",
          "What is your current occupation",
          "Lead Conversion Date",
          "Asym how soon you can join program",
          "Asym What is your expectation from this course",
          "Asymm Are you aware about SomeSchool College",
          "Asymm Reason to take admission",
          "Country",
          "How did you hear about SomeSchool",
          "Specialization",
          "City New",
          "Average Time Per Visit",
          "TotalVisits",
          "Page Views Per Visit",
          "Last Activity",
          "Last Visit Date",
          "Last Activity Date",
          "Lead Source",
          "Lead Origin",
          "Lead Number",
          "Prospect ID",
          "Do Not Email",
          "Lead Score",
          "Lead Stage",
          "Do Not Call",
          "Engagement Score",
          "Welearn Forums",
          "Newspaper Article",
          "Magazine",
          "Search",
          "Created On",
          "Modified On",
          "Get updates on PGDMHBSCM",
          "Update me on Supply Chain Content",
          "I agree to pay the amount through cheque",
          "Newspaper",
          "Digital Advertisement",
          "Through Recommendations",
          "Receive More Updates About Our Courses",
          "Last Notable Activity Date",
          "a free copy of Mastering The Interview",
          "Last Notable Activity"
         ],
         "xaxis": "x",
         "y": {
          "bdata": "AAAAAAAA8D8AAAAAAADwPwAAAAAAAPA/AAAAAAAA8D8AAAAAAADwPwAAAAAAAPA/AAAAAAAA8D8AAAAAAADwPwAAAAAAAPA/AAAAAAAA8D8AAAAAAADwPwAAAAAAAPA/AAAAAAAA8D8AAAAAAADwPwAAAAAAAPA/AAAAAAAA8D8AAAAAAADwPwAAAAAAAPA/AAAAAAAA8D8AAAAAAADwPwAAAAAAAPA/AAAAAAAA8D8AAAAAAADwPwAAAAAAAPA/AAAAAAAA8D8AAAAAAADwP9tiFgkd/+8/22IWCR3/7z+QKEMbV/3vPxkFI3Z59O8/ouEC0Zvr7z99RBnauOrvP+fPcv4s5+8/LL7iK77i7z+85iVHFeDvP5ZJPFAy3+8/lkk8UDLf7z9xrFJZT97vPxnauOof0O8/vLu7u7u77z8ztHHVP6DvP3jLzkkR5u4/Uy7lUi7l7j9th1+bQUjuP+R/FbXFLO4/jlUq68n77D+nL+PV6cvsPzl/lvNnOes/L7rooosu6j8WiluhuBXmP4cLRG+uz+U/hwtEb67P5T822WSTTTblP4I8JchTguA/bYdfm0FI3j9zqFjQHCreP3OoWNAcKt4/c6hY0Bwq3j9cdk6KMDfdP1x2ToowN90/XHZOijA33T9cdk6KMDfdP1x2ToowN90/OX+W82c51z9DRsGIXR7VPw4VC5pDxdI/w9o3rH3D0j/D2jesfcPSP8PaN6x9w9I/w9o3rH3D0j/D2jesfcPSP8PaN6x9w9I/w9o3rH3D0j/D2jesfcPSP8PaN6x9w9I/w9o3rH3D0j/D2jesfcPSP8PaN6x9w9I/w9o3rH3D0j/K+zDhWKXSP3/BXfOSo9I/NIeKBc2h0j+BaQyYxoDRP/g2WCbxQNE/rfyEOCs/0T+t/IQ4Kz/RP8C1RO5vLdE/MGKXR78L0T+3FwegupLOP6LhAtGb68M/Ga9OX8arwz/CsUplPXmPP/BCRsGIXY4/8EJGwYhdjj+LhI7/VdSGP4uEjv9V1IY/i4SO/1XUhj99RBnauOpvPwAAAAAAAAAAAAAAAAAAAAAAAAAAAAAAAAAAAAAAAAAAAAAAAAAAAAAAAAAAAAAAAAAAAAAAAAAAAAAAAAAAAAAAAAAAAAAAAAAAAAAAAAAAAAAAAAAAAAAAAAAAAAAAAAAAAAAAAAAAAAAAAAAAAAAAAAAAAAAAAAAAAAAAAAAAAAAAAAAAAAAAAAAAAAAAAAAAAAAAAAAAAAAAAAAAAAAAAAAAAAAAAAAAAAAAAAAAAAAAAAAAAAAAAAAAAAAAAA==",
          "dtype": "f8"
         },
         "yaxis": "y"
        }
       ],
       "layout": {
        "barmode": "relative",
        "height": 600,
        "legend": {
         "tracegroupgap": 0
        },
        "template": {
         "data": {
          "bar": [
           {
            "error_x": {
             "color": "#2a3f5f"
            },
            "error_y": {
             "color": "#2a3f5f"
            },
            "marker": {
             "line": {
              "color": "#E5ECF6",
              "width": 0.5
             },
             "pattern": {
              "fillmode": "overlay",
              "size": 10,
              "solidity": 0.2
             }
            },
            "type": "bar"
           }
          ],
          "barpolar": [
           {
            "marker": {
             "line": {
              "color": "#E5ECF6",
              "width": 0.5
             },
             "pattern": {
              "fillmode": "overlay",
              "size": 10,
              "solidity": 0.2
             }
            },
            "type": "barpolar"
           }
          ],
          "carpet": [
           {
            "aaxis": {
             "endlinecolor": "#2a3f5f",
             "gridcolor": "white",
             "linecolor": "white",
             "minorgridcolor": "white",
             "startlinecolor": "#2a3f5f"
            },
            "baxis": {
             "endlinecolor": "#2a3f5f",
             "gridcolor": "white",
             "linecolor": "white",
             "minorgridcolor": "white",
             "startlinecolor": "#2a3f5f"
            },
            "type": "carpet"
           }
          ],
          "choropleth": [
           {
            "colorbar": {
             "outlinewidth": 0,
             "ticks": ""
            },
            "type": "choropleth"
           }
          ],
          "contour": [
           {
            "colorbar": {
             "outlinewidth": 0,
             "ticks": ""
            },
            "colorscale": [
             [
              0,
              "#0d0887"
             ],
             [
              0.1111111111111111,
              "#46039f"
             ],
             [
              0.2222222222222222,
              "#7201a8"
             ],
             [
              0.3333333333333333,
              "#9c179e"
             ],
             [
              0.4444444444444444,
              "#bd3786"
             ],
             [
              0.5555555555555556,
              "#d8576b"
             ],
             [
              0.6666666666666666,
              "#ed7953"
             ],
             [
              0.7777777777777778,
              "#fb9f3a"
             ],
             [
              0.8888888888888888,
              "#fdca26"
             ],
             [
              1,
              "#f0f921"
             ]
            ],
            "type": "contour"
           }
          ],
          "contourcarpet": [
           {
            "colorbar": {
             "outlinewidth": 0,
             "ticks": ""
            },
            "type": "contourcarpet"
           }
          ],
          "heatmap": [
           {
            "colorbar": {
             "outlinewidth": 0,
             "ticks": ""
            },
            "colorscale": [
             [
              0,
              "#0d0887"
             ],
             [
              0.1111111111111111,
              "#46039f"
             ],
             [
              0.2222222222222222,
              "#7201a8"
             ],
             [
              0.3333333333333333,
              "#9c179e"
             ],
             [
              0.4444444444444444,
              "#bd3786"
             ],
             [
              0.5555555555555556,
              "#d8576b"
             ],
             [
              0.6666666666666666,
              "#ed7953"
             ],
             [
              0.7777777777777778,
              "#fb9f3a"
             ],
             [
              0.8888888888888888,
              "#fdca26"
             ],
             [
              1,
              "#f0f921"
             ]
            ],
            "type": "heatmap"
           }
          ],
          "histogram": [
           {
            "marker": {
             "pattern": {
              "fillmode": "overlay",
              "size": 10,
              "solidity": 0.2
             }
            },
            "type": "histogram"
           }
          ],
          "histogram2d": [
           {
            "colorbar": {
             "outlinewidth": 0,
             "ticks": ""
            },
            "colorscale": [
             [
              0,
              "#0d0887"
             ],
             [
              0.1111111111111111,
              "#46039f"
             ],
             [
              0.2222222222222222,
              "#7201a8"
             ],
             [
              0.3333333333333333,
              "#9c179e"
             ],
             [
              0.4444444444444444,
              "#bd3786"
             ],
             [
              0.5555555555555556,
              "#d8576b"
             ],
             [
              0.6666666666666666,
              "#ed7953"
             ],
             [
              0.7777777777777778,
              "#fb9f3a"
             ],
             [
              0.8888888888888888,
              "#fdca26"
             ],
             [
              1,
              "#f0f921"
             ]
            ],
            "type": "histogram2d"
           }
          ],
          "histogram2dcontour": [
           {
            "colorbar": {
             "outlinewidth": 0,
             "ticks": ""
            },
            "colorscale": [
             [
              0,
              "#0d0887"
             ],
             [
              0.1111111111111111,
              "#46039f"
             ],
             [
              0.2222222222222222,
              "#7201a8"
             ],
             [
              0.3333333333333333,
              "#9c179e"
             ],
             [
              0.4444444444444444,
              "#bd3786"
             ],
             [
              0.5555555555555556,
              "#d8576b"
             ],
             [
              0.6666666666666666,
              "#ed7953"
             ],
             [
              0.7777777777777778,
              "#fb9f3a"
             ],
             [
              0.8888888888888888,
              "#fdca26"
             ],
             [
              1,
              "#f0f921"
             ]
            ],
            "type": "histogram2dcontour"
           }
          ],
          "mesh3d": [
           {
            "colorbar": {
             "outlinewidth": 0,
             "ticks": ""
            },
            "type": "mesh3d"
           }
          ],
          "parcoords": [
           {
            "line": {
             "colorbar": {
              "outlinewidth": 0,
              "ticks": ""
             }
            },
            "type": "parcoords"
           }
          ],
          "pie": [
           {
            "automargin": true,
            "type": "pie"
           }
          ],
          "scatter": [
           {
            "fillpattern": {
             "fillmode": "overlay",
             "size": 10,
             "solidity": 0.2
            },
            "type": "scatter"
           }
          ],
          "scatter3d": [
           {
            "line": {
             "colorbar": {
              "outlinewidth": 0,
              "ticks": ""
             }
            },
            "marker": {
             "colorbar": {
              "outlinewidth": 0,
              "ticks": ""
             }
            },
            "type": "scatter3d"
           }
          ],
          "scattercarpet": [
           {
            "marker": {
             "colorbar": {
              "outlinewidth": 0,
              "ticks": ""
             }
            },
            "type": "scattercarpet"
           }
          ],
          "scattergeo": [
           {
            "marker": {
             "colorbar": {
              "outlinewidth": 0,
              "ticks": ""
             }
            },
            "type": "scattergeo"
           }
          ],
          "scattergl": [
           {
            "marker": {
             "colorbar": {
              "outlinewidth": 0,
              "ticks": ""
             }
            },
            "type": "scattergl"
           }
          ],
          "scattermap": [
           {
            "marker": {
             "colorbar": {
              "outlinewidth": 0,
              "ticks": ""
             }
            },
            "type": "scattermap"
           }
          ],
          "scattermapbox": [
           {
            "marker": {
             "colorbar": {
              "outlinewidth": 0,
              "ticks": ""
             }
            },
            "type": "scattermapbox"
           }
          ],
          "scatterpolar": [
           {
            "marker": {
             "colorbar": {
              "outlinewidth": 0,
              "ticks": ""
             }
            },
            "type": "scatterpolar"
           }
          ],
          "scatterpolargl": [
           {
            "marker": {
             "colorbar": {
              "outlinewidth": 0,
              "ticks": ""
             }
            },
            "type": "scatterpolargl"
           }
          ],
          "scatterternary": [
           {
            "marker": {
             "colorbar": {
              "outlinewidth": 0,
              "ticks": ""
             }
            },
            "type": "scatterternary"
           }
          ],
          "surface": [
           {
            "colorbar": {
             "outlinewidth": 0,
             "ticks": ""
            },
            "colorscale": [
             [
              0,
              "#0d0887"
             ],
             [
              0.1111111111111111,
              "#46039f"
             ],
             [
              0.2222222222222222,
              "#7201a8"
             ],
             [
              0.3333333333333333,
              "#9c179e"
             ],
             [
              0.4444444444444444,
              "#bd3786"
             ],
             [
              0.5555555555555556,
              "#d8576b"
             ],
             [
              0.6666666666666666,
              "#ed7953"
             ],
             [
              0.7777777777777778,
              "#fb9f3a"
             ],
             [
              0.8888888888888888,
              "#fdca26"
             ],
             [
              1,
              "#f0f921"
             ]
            ],
            "type": "surface"
           }
          ],
          "table": [
           {
            "cells": {
             "fill": {
              "color": "#EBF0F8"
             },
             "line": {
              "color": "white"
             }
            },
            "header": {
             "fill": {
              "color": "#C8D4E3"
             },
             "line": {
              "color": "white"
             }
            },
            "type": "table"
           }
          ]
         },
         "layout": {
          "annotationdefaults": {
           "arrowcolor": "#2a3f5f",
           "arrowhead": 0,
           "arrowwidth": 1
          },
          "autotypenumbers": "strict",
          "coloraxis": {
           "colorbar": {
            "outlinewidth": 0,
            "ticks": ""
           }
          },
          "colorscale": {
           "diverging": [
            [
             0,
             "#8e0152"
            ],
            [
             0.1,
             "#c51b7d"
            ],
            [
             0.2,
             "#de77ae"
            ],
            [
             0.3,
             "#f1b6da"
            ],
            [
             0.4,
             "#fde0ef"
            ],
            [
             0.5,
             "#f7f7f7"
            ],
            [
             0.6,
             "#e6f5d0"
            ],
            [
             0.7,
             "#b8e186"
            ],
            [
             0.8,
             "#7fbc41"
            ],
            [
             0.9,
             "#4d9221"
            ],
            [
             1,
             "#276419"
            ]
           ],
           "sequential": [
            [
             0,
             "#0d0887"
            ],
            [
             0.1111111111111111,
             "#46039f"
            ],
            [
             0.2222222222222222,
             "#7201a8"
            ],
            [
             0.3333333333333333,
             "#9c179e"
            ],
            [
             0.4444444444444444,
             "#bd3786"
            ],
            [
             0.5555555555555556,
             "#d8576b"
            ],
            [
             0.6666666666666666,
             "#ed7953"
            ],
            [
             0.7777777777777778,
             "#fb9f3a"
            ],
            [
             0.8888888888888888,
             "#fdca26"
            ],
            [
             1,
             "#f0f921"
            ]
           ],
           "sequentialminus": [
            [
             0,
             "#0d0887"
            ],
            [
             0.1111111111111111,
             "#46039f"
            ],
            [
             0.2222222222222222,
             "#7201a8"
            ],
            [
             0.3333333333333333,
             "#9c179e"
            ],
            [
             0.4444444444444444,
             "#bd3786"
            ],
            [
             0.5555555555555556,
             "#d8576b"
            ],
            [
             0.6666666666666666,
             "#ed7953"
            ],
            [
             0.7777777777777778,
             "#fb9f3a"
            ],
            [
             0.8888888888888888,
             "#fdca26"
            ],
            [
             1,
             "#f0f921"
            ]
           ]
          },
          "colorway": [
           "#636efa",
           "#EF553B",
           "#00cc96",
           "#ab63fa",
           "#FFA15A",
           "#19d3f3",
           "#FF6692",
           "#B6E880",
           "#FF97FF",
           "#FECB52"
          ],
          "font": {
           "color": "#2a3f5f"
          },
          "geo": {
           "bgcolor": "white",
           "lakecolor": "white",
           "landcolor": "#E5ECF6",
           "showlakes": true,
           "showland": true,
           "subunitcolor": "white"
          },
          "hoverlabel": {
           "align": "left"
          },
          "hovermode": "closest",
          "mapbox": {
           "style": "light"
          },
          "paper_bgcolor": "white",
          "plot_bgcolor": "#E5ECF6",
          "polar": {
           "angularaxis": {
            "gridcolor": "white",
            "linecolor": "white",
            "ticks": ""
           },
           "bgcolor": "#E5ECF6",
           "radialaxis": {
            "gridcolor": "white",
            "linecolor": "white",
            "ticks": ""
           }
          },
          "scene": {
           "xaxis": {
            "backgroundcolor": "#E5ECF6",
            "gridcolor": "white",
            "gridwidth": 2,
            "linecolor": "white",
            "showbackground": true,
            "ticks": "",
            "zerolinecolor": "white"
           },
           "yaxis": {
            "backgroundcolor": "#E5ECF6",
            "gridcolor": "white",
            "gridwidth": 2,
            "linecolor": "white",
            "showbackground": true,
            "ticks": "",
            "zerolinecolor": "white"
           },
           "zaxis": {
            "backgroundcolor": "#E5ECF6",
            "gridcolor": "white",
            "gridwidth": 2,
            "linecolor": "white",
            "showbackground": true,
            "ticks": "",
            "zerolinecolor": "white"
           }
          },
          "shapedefaults": {
           "line": {
            "color": "#2a3f5f"
           }
          },
          "ternary": {
           "aaxis": {
            "gridcolor": "white",
            "linecolor": "white",
            "ticks": ""
           },
           "baxis": {
            "gridcolor": "white",
            "linecolor": "white",
            "ticks": ""
           },
           "bgcolor": "#E5ECF6",
           "caxis": {
            "gridcolor": "white",
            "linecolor": "white",
            "ticks": ""
           }
          },
          "title": {
           "x": 0.05
          },
          "xaxis": {
           "automargin": true,
           "gridcolor": "white",
           "linecolor": "white",
           "ticks": "",
           "title": {
            "standoff": 15
           },
           "zerolinecolor": "white",
           "zerolinewidth": 2
          },
          "yaxis": {
           "automargin": true,
           "gridcolor": "white",
           "linecolor": "white",
           "ticks": "",
           "title": {
            "standoff": 15
           },
           "zerolinecolor": "white",
           "zerolinewidth": 2
          }
         }
        },
        "title": {
         "text": "Sparsity per Column in DF2"
        },
        "xaxis": {
         "anchor": "y",
         "domain": [
          0,
          1
         ],
         "tickangle": 45,
         "title": {
          "text": "Column"
         }
        },
        "yaxis": {
         "anchor": "x",
         "domain": [
          0,
          1
         ],
         "tickformat": ".0%",
         "title": {
          "text": "Sparsity (%)"
         }
        }
       }
      }
     },
     "metadata": {},
     "output_type": "display_data"
    }
   ],
   "source": [
    "import pandas as pd\n",
    "import plotly.express as px\n",
    "\n",
    "# ---- Core analysis function ----\n",
    "def analyze_sparsity(df: pd.DataFrame, name: str):\n",
    "    total_rows = df.shape[0]\n",
    "\n",
    "    # Per-column stats\n",
    "    missing = df.isnull().sum()\n",
    "    empty = (df == '').sum()\n",
    "    sparsity = ((missing + empty) / total_rows).sort_values(ascending=False)\n",
    "    filled_cols = sparsity[sparsity == 0.0].index.tolist()\n",
    "    \n",
    "    # Combine results into DataFrame\n",
    "    sparsity_df = pd.DataFrame({\n",
    "        'Column': sparsity.index,\n",
    "        'Missing Count': missing[sparsity.index].values,\n",
    "        'Empty String Count': empty[sparsity.index].values,\n",
    "        'Sparsity Ratio': sparsity.values\n",
    "    })\n",
    "    \n",
    "    print(f\"--- {name} ---\")\n",
    "    print(f\"Total columns: {df.shape[1]}, Total rows: {df.shape[0]}\")\n",
    "    print(f\"Overall sparsity: {round(sparsity.mean() * 100, 2)}%\")\n",
    "    print(f\"Fully filled columns ({len(filled_cols)}): {filled_cols}\")\n",
    "\n",
    "    return sparsity_df, filled_cols\n",
    "\n",
    "# ---- Plotting function ----\n",
    "def plot_sparsity(sparsity_df: pd.DataFrame, title: str):\n",
    "    fig = px.bar(\n",
    "        sparsity_df,\n",
    "        x='Column',\n",
    "        y='Sparsity Ratio',\n",
    "        hover_data=['Missing Count', 'Empty String Count'],\n",
    "        title=title,\n",
    "        labels={'Sparsity Ratio': 'Sparsity (%)'},\n",
    "    )\n",
    "    fig.update_layout(\n",
    "        xaxis_tickangle=45,\n",
    "        yaxis_tickformat=\".0%\",\n",
    "        height=600\n",
    "    )\n",
    "    fig.show()\n",
    "\n",
    "# ---- Run for both dataframes ----\n",
    "sparsity_df1, full_cols1 = analyze_sparsity(df1, \"DF1\")\n",
    "plot_sparsity(sparsity_df1, \"Sparsity per Column in DF1\")\n",
    "\n",
    "sparsity_df2, full_cols2 = analyze_sparsity(df2, \"DF2\")\n",
    "plot_sparsity(sparsity_df2, \"Sparsity per Column in DF2\")\n"
   ]
  },
  {
   "cell_type": "code",
   "execution_count": null,
   "id": "edffd642",
   "metadata": {},
   "outputs": [],
   "source": [
    "merged_df = pd.merge(df1, df2, on='Prospect ID', how='left', suffixes=('_df1', '_df2'))"
   ]
  }
 ],
 "metadata": {
  "kernelspec": {
   "display_name": ".venv",
   "language": "python",
   "name": "python3"
  },
  "language_info": {
   "codemirror_mode": {
    "name": "ipython",
    "version": 3
   },
   "file_extension": ".py",
   "mimetype": "text/x-python",
   "name": "python",
   "nbconvert_exporter": "python",
   "pygments_lexer": "ipython3",
   "version": "3.12.9"
  }
 },
 "nbformat": 4,
 "nbformat_minor": 5
}
