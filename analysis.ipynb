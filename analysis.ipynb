{
 "cells": [
  {
   "cell_type": "code",
   "execution_count": 1,
   "id": "0da5eac8",
   "metadata": {},
   "outputs": [],
   "source": [
    "from openai import OpenAI\n",
    "\n",
    "client = OpenAI()\n",
    "text = {\n",
    "        \"format\": {\n",
    "            \"type\": \"json_schema\",\n",
    "            \"name\": \"repsponse_json_schema\",\n",
    "            \"schema\": {\n",
    "                \"type\": \"object\",\n",
    "                \"properties\": {\n",
    "                    \"statements\": {\n",
    "                        \"type\": \"array\",\n",
    "                        \"items\": {\n",
    "                            \"type\": \"object\",\n",
    "                            \"properties\": {\n",
    "                                \"explanation\": { \"type\": \"string\" },\n",
    "                                \"output\": { \"type\": \"string\" }\n",
    "                            },\n",
    "                            \"required\": [\"explanation\", \"output\"],\n",
    "                            \"additionalProperties\": False\n",
    "                        }\n",
    "                    }\n",
    "                },\n",
    "                \"required\": [\"statements\"],\n",
    "                \"additionalProperties\": False\n",
    "            },\n",
    "            \"strict\": True\n",
    "        }\n",
    "    }"
   ]
  },
  {
   "cell_type": "markdown",
   "id": "5ab7bd42",
   "metadata": {},
   "source": [
    "Function to Schema\n"
   ]
  },
  {
   "cell_type": "code",
   "execution_count": 2,
   "id": "38b8bd12",
   "metadata": {},
   "outputs": [],
   "source": [
    "\n",
    "tools = [{\n",
    "    \"type\": \"function\",\n",
    "    \"name\": \"get_weather\",\n",
    "    \"description\": \"Retrieves current weather for the given location.\",\n",
    "    \"strict\": True,\n",
    "    \"parameters\": {\n",
    "        \"type\": \"object\",\n",
    "        \"properties\": {\n",
    "            \"location\": {\n",
    "                \"type\": \"string\",\n",
    "                \"description\": \"City and country e.g. Bogotá, Colombia\"\n",
    "            },\n",
    "            \"units\": {\n",
    "                \"type\": [\"string\", \"null\"],\n",
    "                \"enum\": [\"celsius\", \"fahrenheit\"],\n",
    "                \"description\": \"Units the temperature will be returned in.\"\n",
    "            }\n",
    "        },\n",
    "        \"required\": [\"location\", \"units\"],\n",
    "        \"additionalProperties\": False\n",
    "    }\n",
    "},\n",
    "{\n",
    "    \"type\": \"function\",\n",
    "    \"name\": \"get_time\",\n",
    "    \"description\": \"Retrieves current time for the given location.\",\n",
    "    \"strict\": True,\n",
    "    \"parameters\": {\n",
    "        \"type\": \"object\",\n",
    "        \"properties\": {\n",
    "            \"location\": {\n",
    "                \"type\": \"string\",\n",
    "                \"description\": \"City and country e.g. Bogotá, Colombia\"\n",
    "            },\n",
    "            \"timezone\": {\n",
    "                \"type\": [\"string\", \"null\"],\n",
    "                \"description\": \"Timezone to convert the time to.\"\n",
    "            }\n",
    "        },\n",
    "    \"required\": [\"location\", \"timezone\"],\n",
    "    \"additionalProperties\": False\n",
    "}\n",
    "}\n",
    "]"
   ]
  },
  {
   "cell_type": "code",
   "execution_count": 3,
   "id": "7aa9b677",
   "metadata": {},
   "outputs": [],
   "source": [
    "from openai import OpenAI\n",
    "import logging\n",
    "client = OpenAI()\n",
    "logging.basicConfig(\n",
    "    level=logging.INFO,  # or logging.DEBUG for more detail\n",
    "    format='%(asctime)s - %(levelname)s - %(message)s'\n",
    ")"
   ]
  },
  {
   "cell_type": "markdown",
   "id": "d2fd3db3",
   "metadata": {},
   "source": [
    "Initialize Query Tool \n"
   ]
  },
  {
   "cell_type": "code",
   "execution_count": 4,
   "id": "32c5cc82",
   "metadata": {},
   "outputs": [],
   "source": [
    "\n",
    "import pandas as pd\n",
    "from tools.query_dataframe import QueryDataFrameTool\n",
    "\n",
    "df = pd.read_csv(r\"C:\\Users\\AakashAI\\Desktop\\Repositories\\Sales Agent\\cleaned_leads.csv\")\n",
    "QUERY_DATAFRAME_TOOL_INSTRUCTIONS = open(r\"prompts\\query_dataframe_tool\\prompt_v1.txt\", encoding=\"utf-8\").read()\n",
    "query_tool = QueryDataFrameTool(df, QUERY_DATAFRAME_TOOL_INSTRUCTIONS)\n",
    "# query_tool.query_dataframe(\"how many leads are there in the dataset?\")"
   ]
  },
  {
   "cell_type": "markdown",
   "id": "b767cdf7",
   "metadata": {},
   "source": [
    "Tool Definition"
   ]
  },
  {
   "cell_type": "code",
   "execution_count": null,
   "id": "74e3ad08",
   "metadata": {},
   "outputs": [
    {
     "name": "stdout",
     "output_type": "stream",
     "text": [
      "<bound method QueryDataFrameTool.query_dataframe of <tools.query_dataframe.QueryDataFrameTool object at 0x000002721495E720>>\n"
     ]
    }
   ],
   "source": [
    "from utils.function_to_schemas import function_to_schema\n",
    "from tools.query_dataframe import QueryDataFrameInput, QueryDataFrameOutput\n",
    "# query dataframe method is used for tool invocations\n",
    "tools = {\"query_dataframe\": query_tool.query_dataframe}\n",
    "tool_models = {\"query_dataframe\": QueryDataFrameInput}\n",
    "tool_schemas = [function_to_schema(query_tool.query_dataframe, QueryDataFrameInput)]"
   ]
  },
  {
   "cell_type": "code",
   "execution_count": 4,
   "id": "c4fbf5c6",
   "metadata": {},
   "outputs": [
    {
     "data": {
      "text/plain": [
       "[{'type': 'function',\n",
       "  'name': 'query_dataframe',\n",
       "  'description': 'Main method to query the DataFrame.',\n",
       "  'strict': True,\n",
       "  'parameters': {'properties': {'user_query': {'description': 'The natural language query to be executed on the DataFrame.',\n",
       "     'title': 'User Query',\n",
       "     'type': 'string'}},\n",
       "   'required': ['user_query'],\n",
       "   'title': 'QueryDataFrameInput',\n",
       "   'type': 'object',\n",
       "   'additionalProperties': False}}]"
      ]
     },
     "execution_count": 4,
     "metadata": {},
     "output_type": "execute_result"
    }
   ],
   "source": [
    "tool_schemas"
   ]
  },
  {
   "cell_type": "code",
   "execution_count": null,
   "id": "f322e796",
   "metadata": {},
   "outputs": [],
   "source": [
    "from agent.agent import Agent\n",
    "SDR_ASSISTANT_INSTRUCTIONS = open(r\"prompts\\sdr_agent\\prompt_v1.txt\", encoding=\"utf-8\").read()\n",
    "agent = Agent(\"SalesAgent\", client, SDR_ASSISTANT_INSTRUCTIONS, tool_schemas, tool_models, tools)"
   ]
  },
  {
   "cell_type": "code",
   "execution_count": 8,
   "id": "9bc9992d",
   "metadata": {},
   "outputs": [
    {
     "name": "stderr",
     "output_type": "stream",
     "text": [
      "2025-04-23 22:46:10,550 - INFO - HTTP Request: POST https://api.openai.com/v1/responses \"HTTP/1.1 200 OK\"\n"
     ]
    },
    {
     "name": "stdout",
     "output_type": "stream",
     "text": [
      "Function call detected\n"
     ]
    },
    {
     "name": "stderr",
     "output_type": "stream",
     "text": [
      "2025-04-23 22:46:12,468 - INFO - HTTP Request: POST https://api.openai.com/v1/responses \"HTTP/1.1 200 OK\"\n",
      "2025-04-23 22:46:12,484 - INFO - Question: user_query='Show leads from Bombay with source Landing Page that are not converted. Include their names and relevant details.'\n"
     ]
    },
    {
     "name": "stdout",
     "output_type": "stream",
     "text": [
      "LLM response: Response(id='resp_6809205ab06481918036820a2e85f1d40d02ea061b34d0ac', created_at=1745428570.0, error=None, incomplete_details=None, instructions=None, metadata={}, model='gpt-4o-2024-08-06', object='response', output=[ResponseOutputMessage(id='msg_6809205afbe081918ae8b3b582f9c5ad0d02ea061b34d0ac', content=[ResponseOutputText(annotations=[], text='{\"explanation\":\"Query rephrased for available city value.\",\"output\":\"df[(df[\\'City\\'] == \\'Mumbai\\') & (df[\\'Lead Source\\'] == \\'Landing Page\\') & (df[\\'Converted\\'] == 0)]\"}', type='output_text')], role='assistant', status='completed', type='message')], parallel_tool_calls=True, temperature=1.0, tool_choice='auto', tools=[], top_p=1.0, max_output_tokens=None, previous_response_id=None, reasoning=Reasoning(effort=None, generate_summary=None, summary=None), service_tier='default', status='completed', text=ResponseTextConfig(format=ResponseFormatTextJSONSchemaConfig(name='response_json_schema', schema_={'type': 'object', 'properties': {'explanation': {'type': 'string'}, 'output': {'type': 'string'}}, 'required': ['explanation', 'output'], 'additionalProperties': False}, type='json_schema', description=None, strict=True)), truncation='disabled', usage=ResponseUsage(input_tokens=682, input_tokens_details=InputTokensDetails(cached_tokens=0), output_tokens=49, output_tokens_details=OutputTokensDetails(reasoning_tokens=0), total_tokens=731), user=None, store=True)\n",
      "Parsed LLM result: {'explanation': 'Query rephrased for available city value.', 'output': \"df[(df['City'] == 'Mumbai') & (df['Lead Source'] == 'Landing Page') & (df['Converted'] == 0)]\"}\n",
      "Running query: df[(df['City'] == 'Mumbai') & (df['Lead Source'] == 'Landing Page') & (df['Converted'] == 0)]\n",
      "Query result: status='success' explanation='Query rephrased for available city value.' data=[] error=None\n",
      "Is empty: True\n"
     ]
    },
    {
     "name": "stderr",
     "output_type": "stream",
     "text": [
      "2025-04-23 22:46:13,134 - INFO - Running PandasAI with openai LLM...\n",
      "2025-04-23 22:46:13,146 - INFO - Prompt ID: 2d40050d-4e62-45e6-bdbe-c9330a3010af\n"
     ]
    },
    {
     "name": "stdout",
     "output_type": "stream",
     "text": [
      "Query result: status='success' explanation=\"PandasAI returned a scalar: Unfortunately, I was not able to get your answers, because of the following error:\\n\\nexpected string or bytes-like object, got 'QueryDataFrameInput'\\n\" data=\"Unfortunately, I was not able to get your answers, because of the following error:\\n\\nexpected string or bytes-like object, got 'QueryDataFrameInput'\\n\" error=None\n",
      "Is empty: False\n"
     ]
    },
    {
     "name": "stderr",
     "output_type": "stream",
     "text": [
      "2025-04-23 22:46:30,047 - INFO - HTTP Request: POST https://api.openai.com/v1/responses \"HTTP/1.1 200 OK\"\n"
     ]
    },
    {
     "data": {
      "text/plain": [
       "\"It seems there was a technical issue while trying to retrieve the data. Let me try again.\\n\\nI will fetch the list of leads from Bombay with source Landing Page who have not converted.Let me retry fetching that information for you.I'm working on gathering this information. Let me give it another try for you.Let me attempt to retrieve the details once more for you.Just a moment, I'll retrieve those details for you again.Let's try to fetch this data one more time. Please hold on.I'll attempt to retrieve the information again. Hang on just a moment.I'm on it. I'll try to gather that data once more.Let's try that again. I'll attempt to retrieve the data.Let me give it another shot to retrieve the information. Hang tight!Allow me to try retrieving that information again for you.I'll give it another attempt to get that data for you. Please hold on.I'll try fetching the data once more. Please bear with me.I'll make another attempt to retrieve the information. Just a moment!Let me try fetching the data again for you.I'll attempt once more to retrieve the information from the database. Hang tight!Apologies, it seems I encountered an issue again. I'll make sure to investigate and resolve this quickly. Please hold on.I'm having some technical difficulties retrieving the data. Please hang tight while I resolve this.I'm experiencing some technical issues retrieving the data. Let me sort this out for you.I'm still encountering an issue with retrieving that data. Let me fix this for you.\""
      ]
     },
     "execution_count": 8,
     "metadata": {},
     "output_type": "execute_result"
    }
   ],
   "source": [
    "agent.response(\"can you show leads which are not converted from these leads?\")\n"
   ]
  },
  {
   "cell_type": "code",
   "execution_count": 10,
   "id": "8bbbc619",
   "metadata": {},
   "outputs": [
    {
     "data": {
      "text/plain": [
       "[{'role': 'developer',\n",
       "  'content': 'You are a friendly and efficient assistant for a Sales Development Representative (SDR).\\nALWAYS CHECK FOR INFORMATION IN THE CONVERSATION HISTORY BEFORE ASKING THE SDR FOR MORE INFORMATION. TOOLS MIGHT HAVE BEEN CALLED ALREADY.\\n\\nYour job is to support the SDR in identifying high-quality leads and drafting effective, personalized sales emails.\\nYou help the SDR save time by interpreting their natural language requests and converting them into meaningful actions using the tools available to you.\\n\\nYou have access to three tools:\\n\\n1. query_dataframe\\n   - Use this tool to retrieve relevant leads from the database.\\n   - NEVER write pandas code yourself. Instead, rephrase the SDR’s request in natural language and call this tool.\\n   - Use this tool when the SDR asks to find or filter leads (e.g., \"Show me leads from Mumbai who haven’t converted yet\").\\n   - Give names of the leads when the SDR asks for a list of leads along with their details.\\n\\n2. generate_sales_email\\n   - Use this tool to generate a personalized sales email for a specific lead.\\n   - You’ll need the lead number, product name, and the lead\\'s first and last name.\\n   - The email will be drafted using data from the leads database to make it more relevant and engaging.\\n   - Check the conversation history for the lead number, product, and names and if the information is not available, ask the query_dataframe tool to get the information.\\n   - DO NOT call the query_dataframe tool for email drafting requests unless information is missing.\\n   - ALWAYS ASK FOR MISSING INFORMATION TO COMPLETE THE REQUEST if any details (e.g., lead number, first name, last name, or product) are missing.\\n\\n3. send_email\\n   - Use this tool to send an email.\\n   - It takes in the subject, body, and recipient\\'s email address, and returns a confirmation message.\\n   - After the SDR confirms that the drafted email is good, you must call this tool to \"send\" the email.\\n\\nWhat you can help the SDR with:\\n- Finding specific leads (e.g., \"Show me leads from Mumbai who haven’t converted yet\")\\n- Filtering leads by stage, score, city, source, or conversion status\\n- Identifying hot leads based on attributes (e.g., score > 100, lead grade = A/B)\\n- Drafting follow-up or outreach emails customized to the lead\\n- Suggesting lead prioritization based on score, source, or engagement\\n\\nImportant Instructions:\\n- Always use query_dataframe to query the leads database. NEVER attempt to write the query directly.\\n- ALWAYS ASK FOR MISSING INFORMATION TO COMPLETE THE REQUEST.\\n- If the SDR wants to send a sales email, gather the lead number, the lead\\'s first and last name, and the product before proceeding.\\n- DO NOT call query_dataframe for email drafting requests.\\n- If the SDR\\'s request is vague, ask clarifying questions to ensure you understand their needs before proceeding.\\n- After the SDR confirms that the email draft is acceptable, collect the recipient\\'s email address (if not provided) and call send_email with the subject, body, and email address.\\n- If you are unsure or need more clarification, politely ask the SDR for specifics before proceeding.\\n\\nStay helpful, relevant, and focused on helping the SDR close more leads efficiently.\\n'},\n",
       " {'role': 'user', 'content': 'How many total leads?'},\n",
       " {'type': 'function_call',\n",
       "  'call_id': 'call_n1o63L9kXST5Bqlhp3Bra7By',\n",
       "  'name': 'query_dataframe',\n",
       "  'arguments': '{\"user_query\":\"How many total leads are in the database?\"}'},\n",
       " {'type': 'function_call_output',\n",
       "  'call_id': 'call_n1o63L9kXST5Bqlhp3Bra7By',\n",
       "  'output': \"status='success' explanation='Count total number of leads in DataFrame.' data=[{'result': 84}] error=None\"},\n",
       " {'role': 'user', 'content': 'how many are from bombay and landing page??'},\n",
       " {'type': 'function_call',\n",
       "  'call_id': 'call_mai1CsJrqY22h6Ka99VwS2i1',\n",
       "  'name': 'query_dataframe',\n",
       "  'arguments': '{\"user_query\":\"How many leads are from Bombay and whose source is Landing Page?\"}'},\n",
       " {'type': 'function_call_output',\n",
       "  'call_id': 'call_mai1CsJrqY22h6Ka99VwS2i1',\n",
       "  'output': \"status='success' explanation='Translate user query to DataFrame filter expression.' data=[{'result': 46}] error=None\"},\n",
       " {'role': 'user',\n",
       "  'content': 'can you show leads which are not converted from these leads?'},\n",
       " {'type': 'function_call',\n",
       "  'call_id': 'call_ZW3xROLKBjsqhVAcCWSe1yWx',\n",
       "  'name': 'query_dataframe',\n",
       "  'arguments': '{\"user_query\":\"Show leads from Bombay with source Landing Page that are not converted. Include their names and relevant details.\"}'},\n",
       " {'type': 'function_call_output',\n",
       "  'call_id': 'call_ZW3xROLKBjsqhVAcCWSe1yWx',\n",
       "  'output': 'status=\\'success\\' explanation=\"PandasAI returned a scalar: Unfortunately, I was not able to get your answers, because of the following error:\\\\n\\\\nexpected string or bytes-like object, got \\'QueryDataFrameInput\\'\\\\n\" data=\"Unfortunately, I was not able to get your answers, because of the following error:\\\\n\\\\nexpected string or bytes-like object, got \\'QueryDataFrameInput\\'\\\\n\" error=None'}]"
      ]
     },
     "execution_count": 10,
     "metadata": {},
     "output_type": "execute_result"
    }
   ],
   "source": [
    "agent.memory"
   ]
  },
  {
   "cell_type": "code",
   "execution_count": 8,
   "id": "82ab3b92",
   "metadata": {},
   "outputs": [
    {
     "data": {
      "text/plain": [
       "'You are an expert data analyst.\\n\\n    You have access to a tool called `query_dataframe` that accepts a Python expression as input and runs it on a DataFrame called `df`.\\n\\n    Here is the DataFrame schema:\\n    {schema_description}\\n\\n    Below are a few one-shot examples of valid filtering queries:\\n\\n    Example 1:\\n    User Request: \"List all leads from City \\'Metropolis\\' that have not been converted\"\\n    Expected tool call: query_dataframe(\"df[(df[\\'City\\'] == \\'Metropolis\\') & (df[\\'Converted\\'] == 0)]\")\\n\\n    Example 2:\\n    User Request: \"Show me leads from Source \\'Web\\' with a lead score above 100\"\\n    Expected tool call: query_dataframe(\"df[(df[\\'Lead Source\\'] == \\'Web\\') & (df[\\'Lead Score\\'] > 100)]\")\\n\\n    Example 3:\\n    User Request: \"Find leads that are qualified and in the age group \\'30-35\\'\"\\n    Expected tool call: query_dataframe(\"df[(df[\\'Lead Stage\\'] == \\'Qualified\\') & (df[\\'Age\\'] == \\'30-35\\')]\")\\n\\n\\n    Now, a user has asked to filter the DataFrame with this request:\\n    \\'{user_request}\\'\\n\\n    You should call the tool with the appropriate pandas filtering expression using `df`.\\n    Understand the schema and the valid values in the columns.\\n    rephrase the user query with available values within the particular column.\\n    Strictly align with the query and do not give any other information or irrelevant details.\\n    Only call the tool. Do not answer the query yourself.'"
      ]
     },
     "execution_count": 8,
     "metadata": {},
     "output_type": "execute_result"
    }
   ],
   "source": [
    "def load_prompt(path: str) -> str:\n",
    "    with open(path, \"r\", encoding=\"utf-8\") as f:\n",
    "        return f.read()\n",
    "prompt_template = load_prompt(r\".\\prompts\\query_dataframe_tool\\prompt_v1.txt\")\n",
    "prompt_template"
   ]
  },
  {
   "cell_type": "code",
   "execution_count": 7,
   "id": "72eb19ad",
   "metadata": {},
   "outputs": [
    {
     "name": "stdout",
     "output_type": "stream",
     "text": [
      "You are an expert data analyst.\n",
      "\n",
      "    You have access to a tool called `query_dataframe` that accepts a Python expression as input and runs it on a DataFrame called `df`.\n",
      "\n",
      "    Here is the DataFrame schema:\n",
      "    HELLO WORLD\n",
      "\n",
      "    Below are a few one-shot examples of valid filtering queries:\n",
      "\n",
      "    Example 1:\n",
      "    User Request: \"List all leads from City 'Metropolis' that have not been converted\"\n",
      "    Expected tool call: query_dataframe(\"df[(df['City'] == 'Metropolis') & (df['Converted'] == 0)]\")\n",
      "\n",
      "    Example 2:\n",
      "    User Request: \"Show me leads from Source 'Web' with a lead score above 100\"\n",
      "    Expected tool call: query_dataframe(\"df[(df['Lead Source'] == 'Web') & (df['Lead Score'] > 100)]\")\n",
      "\n",
      "    Example 3:\n",
      "    User Request: \"Find leads that are qualified and in the age group '30-35'\"\n",
      "    Expected tool call: query_dataframe(\"df[(df['Lead Stage'] == 'Qualified') & (df['Age'] == '30-35')]\")\n",
      "\n",
      "\n",
      "    Now, a user has asked to filter the DataFrame with this request:\n",
      "    'What is the weather in Paris today?'\n",
      "\n",
      "    You should call the tool with the appropriate pandas filtering expression using `df`.\n",
      "    Understand the schema and the valid values in the columns.\n",
      "    rephrase the user query with available values within the particular column.\n",
      "    Strictly align with the query and do not give any other information or irrelevant details.\n",
      "    Only call the tool. Do not answer the query yourself.\n"
     ]
    }
   ],
   "source": [
    "schema_description =\"HELLO WORLD\"\n",
    "user_request = \"What is the weather in Paris today?\"\n",
    "prompt = prompt_template.format(\n",
    "    schema_description=schema_description,\n",
    "    user_request=user_request\n",
    ")\n"
   ]
  },
  {
   "cell_type": "code",
   "execution_count": 4,
   "id": "90d55dcd",
   "metadata": {},
   "outputs": [
    {
     "data": {
      "text/plain": [
       "[{'role': 'developer', 'content': 'You are a helpful agent'},\n",
       " {'role': 'user', 'content': \"What's the weather in Paris today?\"},\n",
       " {'type': 'function_call_output',\n",
       "  'call_id': 'call_ACwMwh8MU7cJWcpgD16Bivli',\n",
       "  'output': \"Error: 'str' object has no attribute 'location'\"}]"
      ]
     },
     "execution_count": 4,
     "metadata": {},
     "output_type": "execute_result"
    }
   ],
   "source": [
    "agent.memory"
   ]
  },
  {
   "cell_type": "code",
   "execution_count": null,
   "id": "c5a6fced",
   "metadata": {},
   "outputs": [
    {
     "data": {
      "text/plain": [
       "[{'type': 'function',\n",
       "  'name': 'get_weather',\n",
       "  'description': 'Retrieves current weather for the given location.',\n",
       "  'strict': True,\n",
       "  'parameters': {'type': 'object',\n",
       "   'properties': {'location': {'type': 'string',\n",
       "     'description': 'City and country e.g. Bogotá, Colombia'},\n",
       "    'units': {'type': ['string', 'null'],\n",
       "     'enum': ['celsius', 'fahrenheit'],\n",
       "     'description': 'Units the temperature will be returned in.'}},\n",
       "   'required': ['location', 'units'],\n",
       "   'additionalProperties': False}},\n",
       " {'type': 'function',\n",
       "  'name': 'get_time',\n",
       "  'description': 'Retrieves current time for the given location.',\n",
       "  'strict': True,\n",
       "  'parameters': {'type': 'object',\n",
       "   'properties': {'location': {'type': 'string',\n",
       "     'description': 'City and country e.g. Bogotá, Colombia'},\n",
       "    'timezone': {'type': ['string', 'null'],\n",
       "     'description': 'Timezone to convert the time to.'}},\n",
       "   'required': ['location', 'timezone'],\n",
       "   'additionalProperties': False}}]"
      ]
     },
     "execution_count": 9,
     "metadata": {},
     "output_type": "execute_result"
    }
   ],
   "source": [
    "agent.tools"
   ]
  },
  {
   "cell_type": "code",
   "execution_count": null,
   "id": "344f7408",
   "metadata": {},
   "outputs": [],
   "source": []
  }
 ],
 "metadata": {
  "kernelspec": {
   "display_name": ".venv",
   "language": "python",
   "name": "python3"
  },
  "language_info": {
   "codemirror_mode": {
    "name": "ipython",
    "version": 3
   },
   "file_extension": ".py",
   "mimetype": "text/x-python",
   "name": "python",
   "nbconvert_exporter": "python",
   "pygments_lexer": "ipython3",
   "version": "3.12.9"
  }
 },
 "nbformat": 4,
 "nbformat_minor": 5
}
