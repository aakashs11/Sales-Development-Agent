{
 "cells": [
  {
   "cell_type": "code",
   "execution_count": 1,
   "id": "0da5eac8",
   "metadata": {},
   "outputs": [],
   "source": [
    "from openai import OpenAI\n",
    "\n",
    "client = OpenAI()\n",
    "text = {\n",
    "        \"format\": {\n",
    "            \"type\": \"json_schema\",\n",
    "            \"name\": \"repsponse_json_schema\",\n",
    "            \"schema\": {\n",
    "                \"type\": \"object\",\n",
    "                \"properties\": {\n",
    "                    \"statements\": {\n",
    "                        \"type\": \"array\",\n",
    "                        \"items\": {\n",
    "                            \"type\": \"object\",\n",
    "                            \"properties\": {\n",
    "                                \"explanation\": { \"type\": \"string\" },\n",
    "                                \"output\": { \"type\": \"string\" }\n",
    "                            },\n",
    "                            \"required\": [\"explanation\", \"output\"],\n",
    "                            \"additionalProperties\": False\n",
    "                        }\n",
    "                    }\n",
    "                },\n",
    "                \"required\": [\"statements\"],\n",
    "                \"additionalProperties\": False\n",
    "            },\n",
    "            \"strict\": True\n",
    "        }\n",
    "    }"
   ]
  },
  {
   "cell_type": "code",
   "execution_count": 9,
   "id": "68b04654",
   "metadata": {},
   "outputs": [],
   "source": [
    "text = {\n",
    "        \"format\": {\n",
    "            \"type\": \"json_schema\",\n",
    "            \"name\": \"response_json_schema\",\n",
    "            \"schema\": {\n",
    "                \"type\": \"object\",\n",
    "                \"properties\": {\n",
    "                            \"explanation\": { \"type\": \"string\" },\n",
    "                            \"output\": { \"type\": \"string\" },\n",
    "                },\n",
    "            \"required\": [\"explanation\", \"output\"],\n",
    "            \"additionalProperties\": False\n",
    "            },\n",
    "            \"strict\": True\n",
    "        }\n",
    "    }"
   ]
  },
  {
   "cell_type": "markdown",
   "id": "acbe0b7e",
   "metadata": {},
   "source": [
    "Response structure"
   ]
  },
  {
   "cell_type": "code",
   "execution_count": 2,
   "id": "fc98b4e7",
   "metadata": {},
   "outputs": [
    {
     "ename": "NameError",
     "evalue": "name 'BaseModel' is not defined",
     "output_type": "error",
     "traceback": [
      "\u001b[31m---------------------------------------------------------------------------\u001b[39m",
      "\u001b[31mNameError\u001b[39m                                 Traceback (most recent call last)",
      "\u001b[36mCell\u001b[39m\u001b[36m \u001b[39m\u001b[32mIn[2]\u001b[39m\u001b[32m, line 1\u001b[39m\n\u001b[32m----> \u001b[39m\u001b[32m1\u001b[39m \u001b[38;5;28;01mclass\u001b[39;00m\u001b[38;5;250m \u001b[39m\u001b[34;01mQueryParams\u001b[39;00m(\u001b[43mBaseModel\u001b[49m):\n\u001b[32m      2\u001b[39m     query: \u001b[38;5;28mstr\u001b[39m = Field(..., description=\u001b[33m\"\u001b[39m\u001b[33mThe SQL or search query to execute.\u001b[39m\u001b[33m\"\u001b[39m)\n\u001b[32m      3\u001b[39m     database: Optional[\u001b[38;5;28mstr\u001b[39m] = Field(\u001b[38;5;28;01mNone\u001b[39;00m, description=\u001b[33m\"\u001b[39m\u001b[33mThe target database name, if applicable.\u001b[39m\u001b[33m\"\u001b[39m)\n",
      "\u001b[31mNameError\u001b[39m: name 'BaseModel' is not defined"
     ]
    }
   ],
   "source": [
    "class QueryParams(BaseModel):\n",
    "    query: str = Field(..., description=\"The SQL or search query to execute.\")\n",
    "    database: Optional[str] = Field(None, description=\"The target database name, if applicable.\")\n",
    "    limit: Optional[int] = Field(10, description=\"Maximum number of results to return.\")\n",
    "\n",
    "query_schema = QueryParams.schema()\n",
    "query_schema"
   ]
  },
  {
   "cell_type": "code",
   "execution_count": 4,
   "id": "65458de7",
   "metadata": {},
   "outputs": [
    {
     "data": {
      "text/plain": [
       "{'properties': {'location': {'description': 'City and country e.g. Bogotá, Colombia',\n",
       "   'title': 'Location',\n",
       "   'type': 'string'},\n",
       "  'timezone': {'anyOf': [{'type': 'string'}, {'type': 'null'}],\n",
       "   'default': None,\n",
       "   'description': 'Timezone to convert the time to.',\n",
       "   'title': 'Timezone'}},\n",
       " 'required': ['location'],\n",
       " 'title': 'GetTimeParams',\n",
       " 'type': 'object'}"
      ]
     },
     "execution_count": 4,
     "metadata": {},
     "output_type": "execute_result"
    }
   ],
   "source": [
    "from pydantic import BaseModel, Field\n",
    "from typing import Literal, Optional\n",
    "from utils.function_to_schemas import function_to_schema\n",
    "\n",
    "\n",
    "class GetTimeParams(BaseModel):\n",
    "    location: str = Field(..., description=\"City and country e.g. Bogotá, Colombia\")\n",
    "    timezone: Optional[str] = Field(None, description=\"Timezone to convert the time to.\")\n",
    "\n",
    "get_time_schema = GetTimeParams.model_json_schema()\n",
    "get_time_schema\n"
   ]
  },
  {
   "cell_type": "markdown",
   "id": "5ab7bd42",
   "metadata": {},
   "source": [
    "Function to Schema\n"
   ]
  },
  {
   "cell_type": "code",
   "execution_count": 6,
   "id": "38b8bd12",
   "metadata": {},
   "outputs": [],
   "source": [
    "\n",
    "tools = [{\n",
    "    \"type\": \"function\",\n",
    "    \"name\": \"get_weather\",\n",
    "    \"description\": \"Retrieves current weather for the given location.\",\n",
    "    \"strict\": True,\n",
    "    \"parameters\": {\n",
    "        \"type\": \"object\",\n",
    "        \"properties\": {\n",
    "            \"location\": {\n",
    "                \"type\": \"string\",\n",
    "                \"description\": \"City and country e.g. Bogotá, Colombia\"\n",
    "            },\n",
    "            \"units\": {\n",
    "                \"type\": [\"string\", \"null\"],\n",
    "                \"enum\": [\"celsius\", \"fahrenheit\"],\n",
    "                \"description\": \"Units the temperature will be returned in.\"\n",
    "            }\n",
    "        },\n",
    "        \"required\": [\"location\", \"units\"],\n",
    "        \"additionalProperties\": False\n",
    "    }\n",
    "},\n",
    "{\n",
    "    \"type\": \"function\",\n",
    "    \"name\": \"get_time\",\n",
    "    \"description\": \"Retrieves current time for the given location.\",\n",
    "    \"strict\": True,\n",
    "    \"parameters\": {\n",
    "        \"type\": \"object\",\n",
    "        \"properties\": {\n",
    "            \"location\": {\n",
    "                \"type\": \"string\",\n",
    "                \"description\": \"City and country e.g. Bogotá, Colombia\"\n",
    "            },\n",
    "            \"timezone\": {\n",
    "                \"type\": [\"string\", \"null\"],\n",
    "                \"description\": \"Timezone to convert the time to.\"\n",
    "            }\n",
    "        },\n",
    "    \"required\": [\"location\", \"timezone\"],\n",
    "    \"additionalProperties\": False\n",
    "}\n",
    "}\n",
    "]"
   ]
  },
  {
   "cell_type": "code",
   "execution_count": 1,
   "id": "7aa9b677",
   "metadata": {},
   "outputs": [],
   "source": [
    "from openai import OpenAI\n",
    "client = OpenAI()\n",
    "from agent import Agent\n",
    "import logging\n",
    "from tools.get_weather import get_weather, WeatherParams\n",
    "from utils.function_to_schemas import function_to_schema\n",
    "logging.basicConfig(\n",
    "    level=logging.INFO,  # or logging.DEBUG for more detail\n",
    "    format='%(asctime)s - %(levelname)s - %(message)s'\n",
    ")\n"
   ]
  },
  {
   "cell_type": "code",
   "execution_count": 2,
   "id": "f322e796",
   "metadata": {},
   "outputs": [],
   "source": [
    "\n",
    "system_prompt = \"You are a helpful agent\"\n",
    "tools = {\"get_weather\": get_weather}\n",
    "tool_schemas = [function_to_schema(get_weather, WeatherParams)]\n",
    "tool_models = {\"get_weather\": WeatherParams}\n",
    "agent = Agent(\"SalesAgent\", client, system_prompt, tool_schemas, tool_models, tools)"
   ]
  },
  {
   "cell_type": "code",
   "execution_count": null,
   "id": "9bc9992d",
   "metadata": {},
   "outputs": [
    {
     "name": "stderr",
     "output_type": "stream",
     "text": [
      "2025-04-19 17:05:16,363 - INFO - HTTP Request: POST https://api.openai.com/v1/responses \"HTTP/1.1 200 OK\"\n",
      "2025-04-19 17:05:17,172 - INFO - HTTP Request: POST https://api.openai.com/v1/responses \"HTTP/1.1 200 OK\"\n"
     ]
    },
    {
     "data": {
      "text/plain": [
       "'The weather in Paris today is sunny, with a temperature of 25°C.'"
      ]
     },
     "execution_count": 3,
     "metadata": {},
     "output_type": "execute_result"
    }
   ],
   "source": [
    "agent.response(\"What's the weather in Paris today?\")\n"
   ]
  },
  {
   "cell_type": "code",
   "execution_count": 8,
   "id": "82ab3b92",
   "metadata": {},
   "outputs": [
    {
     "data": {
      "text/plain": [
       "'You are an expert data analyst.\\n\\n    You have access to a tool called `query_dataframe` that accepts a Python expression as input and runs it on a DataFrame called `df`.\\n\\n    Here is the DataFrame schema:\\n    {schema_description}\\n\\n    Below are a few one-shot examples of valid filtering queries:\\n\\n    Example 1:\\n    User Request: \"List all leads from City \\'Metropolis\\' that have not been converted\"\\n    Expected tool call: query_dataframe(\"df[(df[\\'City\\'] == \\'Metropolis\\') & (df[\\'Converted\\'] == 0)]\")\\n\\n    Example 2:\\n    User Request: \"Show me leads from Source \\'Web\\' with a lead score above 100\"\\n    Expected tool call: query_dataframe(\"df[(df[\\'Lead Source\\'] == \\'Web\\') & (df[\\'Lead Score\\'] > 100)]\")\\n\\n    Example 3:\\n    User Request: \"Find leads that are qualified and in the age group \\'30-35\\'\"\\n    Expected tool call: query_dataframe(\"df[(df[\\'Lead Stage\\'] == \\'Qualified\\') & (df[\\'Age\\'] == \\'30-35\\')]\")\\n\\n\\n    Now, a user has asked to filter the DataFrame with this request:\\n    \\'{user_request}\\'\\n\\n    You should call the tool with the appropriate pandas filtering expression using `df`.\\n    Understand the schema and the valid values in the columns.\\n    rephrase the user query with available values within the particular column.\\n    Strictly align with the query and do not give any other information or irrelevant details.\\n    Only call the tool. Do not answer the query yourself.'"
      ]
     },
     "execution_count": 8,
     "metadata": {},
     "output_type": "execute_result"
    }
   ],
   "source": [
    "def load_prompt(path: str) -> str:\n",
    "    with open(path, \"r\", encoding=\"utf-8\") as f:\n",
    "        return f.read()\n",
    "prompt_template = load_prompt(r\".\\prompts\\query_dataframe_tool\\prompt_v1.txt\")\n",
    "prompt_template"
   ]
  },
  {
   "cell_type": "code",
   "execution_count": null,
   "id": "72eb19ad",
   "metadata": {},
   "outputs": [
    {
     "name": "stdout",
     "output_type": "stream",
     "text": [
      "You are an expert data analyst.\n",
      "\n",
      "    You have access to a tool called `query_dataframe` that accepts a Python expression as input and runs it on a DataFrame called `df`.\n",
      "\n",
      "    Here is the DataFrame schema:\n",
      "    HELLO WORLD\n",
      "\n",
      "    Below are a few one-shot examples of valid filtering queries:\n",
      "\n",
      "    Example 1:\n",
      "    User Request: \"List all leads from City 'Metropolis' that have not been converted\"\n",
      "    Expected tool call: query_dataframe(\"df[(df['City'] == 'Metropolis') & (df['Converted'] == 0)]\")\n",
      "\n",
      "    Example 2:\n",
      "    User Request: \"Show me leads from Source 'Web' with a lead score above 100\"\n",
      "    Expected tool call: query_dataframe(\"df[(df['Lead Source'] == 'Web') & (df['Lead Score'] > 100)]\")\n",
      "\n",
      "    Example 3:\n",
      "    User Request: \"Find leads that are qualified and in the age group '30-35'\"\n",
      "    Expected tool call: query_dataframe(\"df[(df['Lead Stage'] == 'Qualified') & (df['Age'] == '30-35')]\")\n",
      "\n",
      "\n",
      "    Now, a user has asked to filter the DataFrame with this request:\n",
      "    'What is the weather in Paris today?'\n",
      "\n",
      "    You should call the tool with the appropriate pandas filtering expression using `df`.\n",
      "    Understand the schema and the valid values in the columns.\n",
      "    rephrase the user query with available values within the particular column.\n",
      "    Strictly align with the query and do not give any other information or irrelevant details.\n",
      "    Only call the tool. Do not answer the query yourself.\n"
     ]
    }
   ],
   "source": [
    "schema_description =\"HELLO WORLD\"\n",
    "user_request = \"What is the weather in Paris today?\"\n",
    "prompt = prompt_template.format(\n",
    "    schema_description=schema_description,\n",
    "    user_request=user_request\n",
    ")\n"
   ]
  },
  {
   "cell_type": "code",
   "execution_count": 4,
   "id": "90d55dcd",
   "metadata": {},
   "outputs": [
    {
     "data": {
      "text/plain": [
       "[{'role': 'developer', 'content': 'You are a helpful agent'},\n",
       " {'role': 'user', 'content': \"What's the weather in Paris today?\"},\n",
       " {'type': 'function_call_output',\n",
       "  'call_id': 'call_ACwMwh8MU7cJWcpgD16Bivli',\n",
       "  'output': \"Error: 'str' object has no attribute 'location'\"}]"
      ]
     },
     "execution_count": 4,
     "metadata": {},
     "output_type": "execute_result"
    }
   ],
   "source": [
    "agent.memory"
   ]
  },
  {
   "cell_type": "code",
   "execution_count": null,
   "id": "c5a6fced",
   "metadata": {},
   "outputs": [
    {
     "data": {
      "text/plain": [
       "[{'type': 'function',\n",
       "  'name': 'get_weather',\n",
       "  'description': 'Retrieves current weather for the given location.',\n",
       "  'strict': True,\n",
       "  'parameters': {'type': 'object',\n",
       "   'properties': {'location': {'type': 'string',\n",
       "     'description': 'City and country e.g. Bogotá, Colombia'},\n",
       "    'units': {'type': ['string', 'null'],\n",
       "     'enum': ['celsius', 'fahrenheit'],\n",
       "     'description': 'Units the temperature will be returned in.'}},\n",
       "   'required': ['location', 'units'],\n",
       "   'additionalProperties': False}},\n",
       " {'type': 'function',\n",
       "  'name': 'get_time',\n",
       "  'description': 'Retrieves current time for the given location.',\n",
       "  'strict': True,\n",
       "  'parameters': {'type': 'object',\n",
       "   'properties': {'location': {'type': 'string',\n",
       "     'description': 'City and country e.g. Bogotá, Colombia'},\n",
       "    'timezone': {'type': ['string', 'null'],\n",
       "     'description': 'Timezone to convert the time to.'}},\n",
       "   'required': ['location', 'timezone'],\n",
       "   'additionalProperties': False}}]"
      ]
     },
     "execution_count": 9,
     "metadata": {},
     "output_type": "execute_result"
    }
   ],
   "source": [
    "agent.tools"
   ]
  },
  {
   "cell_type": "code",
   "execution_count": null,
   "id": "344f7408",
   "metadata": {},
   "outputs": [],
   "source": []
  }
 ],
 "metadata": {
  "kernelspec": {
   "display_name": ".venv",
   "language": "python",
   "name": "python3"
  },
  "language_info": {
   "codemirror_mode": {
    "name": "ipython",
    "version": 3
   },
   "file_extension": ".py",
   "mimetype": "text/x-python",
   "name": "python",
   "nbconvert_exporter": "python",
   "pygments_lexer": "ipython3",
   "version": "3.12.9"
  }
 },
 "nbformat": 4,
 "nbformat_minor": 5
}
