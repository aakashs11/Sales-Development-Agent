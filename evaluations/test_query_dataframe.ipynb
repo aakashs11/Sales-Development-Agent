{
 "cells": [
  {
   "cell_type": "code",
   "execution_count": null,
   "id": "1929c4eb",
   "metadata": {},
   "outputs": [],
   "source": [
    "import sys\n",
    "import os\n",
    "sys.path.append(os.path.abspath(\"..\"))\n",
    "from agent.agent import Agent\n",
    "from openai import OpenAI\n",
    "client = OpenAI()\n",
    "from tools import query_dataframe\n",
    "from tools.query_dataframe import QueryDataFrameInput\n",
    "from utils.function_to_schemas import function_to_schema\n",
    "import pandas as pd\n",
    "from tools.query_dataframe import QueryDataFrameTool\n",
    "\n",
    "df = pd.DataFrame({\n",
    "    \"product\": [\"A\", \"B\"],\n",
    "    \"sales\": [100, 200]\n",
    "})\n",
    "df = pd.read_csv(r\"C:\\Users\\AakashAI\\Desktop\\Repositories\\Sales Agent\\cleaned_leads.csv\")\n",
    "prompt_path = os.path.abspath(\"../prompts/query_dataframe_tool/prompt_v1.txt\")\n",
    "query_tool = QueryDataFrameTool(df, prompt_path=prompt_path)\n",
    "# query_tool.query_dataframe(\"for which product sales is greater than 150?\")\n"
   ]
  },
  {
   "cell_type": "code",
   "execution_count": 1,
   "id": "3c76a0f1",
   "metadata": {},
   "outputs": [
    {
     "ename": "NameError",
     "evalue": "name 'df' is not defined",
     "output_type": "error",
     "traceback": [
      "\u001b[31m---------------------------------------------------------------------------\u001b[39m",
      "\u001b[31mNameError\u001b[39m                                 Traceback (most recent call last)",
      "\u001b[36mCell\u001b[39m\u001b[36m \u001b[39m\u001b[32mIn[1]\u001b[39m\u001b[32m, line 1\u001b[39m\n\u001b[32m----> \u001b[39m\u001b[32m1\u001b[39m \u001b[43mdf\u001b[49m\n",
      "\u001b[31mNameError\u001b[39m: name 'df' is not defined"
     ]
    }
   ],
   "source": [
    "df"
   ]
  },
  {
   "cell_type": "code",
   "execution_count": 5,
   "id": "640a2736",
   "metadata": {},
   "outputs": [
    {
     "name": "stdout",
     "output_type": "stream",
     "text": [
      "2025-04-20 21:23:17 [INFO] Question: which leads work at a college and are not yet converted?\n",
      "2025-04-20 21:23:17 [INFO] Running PandasAI with openai LLM...\n",
      "2025-04-20 21:23:17 [INFO] Prompt ID: 7883b2ce-6849-41a9-ab56-dd2761553e82\n",
      "2025-04-20 21:23:17 [INFO] Executing Pipeline: GenerateChatPipeline\n",
      "2025-04-20 21:23:17 [INFO] Executing Step 0: ValidatePipelineInput\n",
      "2025-04-20 21:23:17 [INFO] Executing Step 1: CacheLookup\n",
      "2025-04-20 21:23:17 [INFO] Executing Step 2: PromptGeneration\n",
      "2025-04-20 21:23:17 [INFO] Using prompt: <dataframe>\n",
      "dfs[0]:84x13\n",
      "Lead Number,Lead Source,Lead Origin,Do Not Email,Do Not Call,Converted,Mobile Number,Lead Stage,Lead Grade,Lead Score,Email,City,Company\n",
      "655287,Direct Traffic,Landing Page Submission,No,No,1,,Closed,,225,r9g8q3h5m@hotmail.com,Thane & Outskirts,Kumar Metals\n",
      "585443,Referral Sites,Landing Page Submission,Yes,No,0,,Qualified,B,55,2y3-rb997jx1@outlook.com,,Duplicate lead\n",
      "616761,Google,Landing Page Submission,Yes,No,1,,Not Interested,C,195,wfp1680@hotmail.com,Other Cities of Maharashtra,\n",
      "</dataframe>\n",
      "\n",
      "\n",
      "\n",
      "\n",
      "Update this initial code:\n",
      "```python\n",
      "# TODO: import the required dependencies\n",
      "import pandas as pd\n",
      "\n",
      "# Write code here\n",
      "\n",
      "# Declare result var: \n",
      "type (possible values \"string\", \"number\", \"dataframe\", \"plot\"). Examples: { \"type\": \"string\", \"value\": f\"The highest salary is {highest_salary}.\" } or { \"type\": \"number\", \"value\": 125 } or { \"type\": \"dataframe\", \"value\": pd.DataFrame({...}) } or { \"type\": \"plot\", \"value\": \"temp_chart.png\" }\n",
      "\n",
      "```\n",
      "\n",
      "\n",
      "\n",
      "### QUERY\n",
      " which leads work at a college and are not yet converted?\n",
      "\n",
      "Variable `dfs: list[pd.DataFrame]` is already declared.\n",
      "\n",
      "At the end, declare \"result\" variable as a dictionary of type and value.\n",
      "\n",
      "If you are asked to plot a chart, use \"matplotlib\" for charts, save as png.\n",
      "\n",
      "\n",
      "Generate python code and return full updated code:\n",
      "2025-04-20 21:23:17 [INFO] Executing Step 3: CodeGenerator\n",
      "2025-04-20 21:23:22 [INFO] HTTP Request: POST https://api.openai.com/v1/chat/completions \"HTTP/1.1 200 OK\"\n",
      "2025-04-20 21:23:22 [INFO] Prompt used:\n",
      "            <dataframe>\n",
      "dfs[0]:84x13\n",
      "Lead Number,Lead Source,Lead Origin,Do Not Email,Do Not Call,Converted,Mobile Number,Lead Stage,Lead Grade,Lead Score,Email,City,Company\n",
      "655287,Direct Traffic,Landing Page Submission,No,No,1,,Closed,,225,r9g8q3h5m@hotmail.com,Thane & Outskirts,Kumar Metals\n",
      "585443,Referral Sites,Landing Page Submission,Yes,No,0,,Qualified,B,55,2y3-rb997jx1@outlook.com,,Duplicate lead\n",
      "616761,Google,Landing Page Submission,Yes,No,1,,Not Interested,C,195,wfp1680@hotmail.com,Other Cities of Maharashtra,\n",
      "</dataframe>\n",
      "\n",
      "\n",
      "\n",
      "\n",
      "Update this initial code:\n",
      "```python\n",
      "# TODO: import the required dependencies\n",
      "import pandas as pd\n",
      "\n",
      "# Write code here\n",
      "\n",
      "# Declare result var: \n",
      "type (possible values \"string\", \"number\", \"dataframe\", \"plot\"). Examples: { \"type\": \"string\", \"value\": f\"The highest salary is {highest_salary}.\" } or { \"type\": \"number\", \"value\": 125 } or { \"type\": \"dataframe\", \"value\": pd.DataFrame({...}) } or { \"type\": \"plot\", \"value\": \"temp_chart.png\" }\n",
      "\n",
      "```\n",
      "\n",
      "\n",
      "\n",
      "### QUERY\n",
      " which leads work at a college and are not yet converted?\n",
      "\n",
      "Variable `dfs: list[pd.DataFrame]` is already declared.\n",
      "\n",
      "At the end, declare \"result\" variable as a dictionary of type and value.\n",
      "\n",
      "If you are asked to plot a chart, use \"matplotlib\" for charts, save as png.\n",
      "\n",
      "\n",
      "Generate python code and return full updated code:\n",
      "            \n",
      "2025-04-20 21:23:22 [INFO] Code generated:\n",
      "            ```\n",
      "            # TODO: import the required dependencies\n",
      "import pandas as pd\n",
      "\n",
      "# Assuming dfs is already defined as a list of DataFrames\n",
      "# Write code here\n",
      "\n",
      "# Filter the DataFrame for leads that work at a college and are not yet converted\n",
      "college_leads_not_converted = dfs[0][(dfs[0]['Company'].str.contains('College', case=False, na=False)) & (dfs[0]['Converted'] == 0)]\n",
      "\n",
      "# Declare result var: \n",
      "result = {\n",
      "    \"type\": \"dataframe\",\n",
      "    \"value\": college_leads_not_converted\n",
      "}\n",
      "\n",
      "# Display the result\n",
      "result\n",
      "            ```\n",
      "            \n",
      "2025-04-20 21:23:22 [INFO] Executing Step 4: CachePopulation\n",
      "2025-04-20 21:23:22 [INFO] Executing Step 5: CodeCleaning\n",
      "2025-04-20 21:23:22 [INFO] \n",
      "Code running:\n",
      "```\n",
      "college_leads_not_converted = dfs[0][dfs[0]['Company'].str.contains('College', case=False, na=False) & (dfs[0]['Converted'] == 0)]\n",
      "result = {'type': 'dataframe', 'value': college_leads_not_converted}\n",
      "result\n",
      "        ```\n",
      "2025-04-20 21:23:22 [INFO] Executing Step 6: CodeExecution\n",
      "2025-04-20 21:23:22 [INFO] Executing Step 7: ResultValidation\n",
      "2025-04-20 21:23:22 [INFO] Answer: {'type': 'dataframe', 'value': Empty DataFrame\n",
      "Columns: [Lead Number, Lead Source, Lead Origin, Do Not Email, Do Not Call, Converted, Mobile Number, Lead Stage, Lead Grade, Lead Score, Email, City, Company]\n",
      "Index: []}\n",
      "2025-04-20 21:23:22 [INFO] Executing Step 8: ResultParsing\n"
     ]
    },
    {
     "data": {
      "text/plain": [
       "QueryDataFrameOutput(status='success', explanation='PandasAI returned a DataFrame.', data=[], error=None)"
      ]
     },
     "execution_count": 5,
     "metadata": {},
     "output_type": "execute_result"
    }
   ],
   "source": [
    "query_tool.secondary_pandasai_query(\"which leads work at a college and are not yet converted?\")"
   ]
  },
  {
   "cell_type": "code",
   "execution_count": 14,
   "id": "5705faae",
   "metadata": {},
   "outputs": [],
   "source": [
    "tools = {\"query_dataframe\": query_tool}\n",
    "tool_models = {\"query_dataframe\": QueryDataFrameInput}\n",
    "tool_schemas = [function_to_schema(query_dataframe, QueryDataFrameInput)]\n"
   ]
  },
  {
   "cell_type": "code",
   "execution_count": null,
   "id": "7709005c",
   "metadata": {},
   "outputs": [],
   "source": [
    "agent = Agent(\n",
    "    name=\"SalesAgent\",\n",
    "    client=client,  # Your LLM or API client\n",
    "    developer_instructions=\"You are a helpful sales assistant.\",\n",
    "    tool_schemas=tool_schemas,\n",
    "    tool_models=tool_models,\n",
    "    tools=tools\n",
    ")"
   ]
  }
 ],
 "metadata": {
  "kernelspec": {
   "display_name": ".venv",
   "language": "python",
   "name": "python3"
  },
  "language_info": {
   "codemirror_mode": {
    "name": "ipython",
    "version": 3
   },
   "file_extension": ".py",
   "mimetype": "text/x-python",
   "name": "python",
   "nbconvert_exporter": "python",
   "pygments_lexer": "ipython3",
   "version": "3.12.9"
  }
 },
 "nbformat": 4,
 "nbformat_minor": 5
}
