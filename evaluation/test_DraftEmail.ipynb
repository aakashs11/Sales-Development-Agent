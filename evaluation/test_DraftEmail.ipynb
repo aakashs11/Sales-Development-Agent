{
 "cells": [
  {
   "cell_type": "code",
   "execution_count": 5,
   "id": "c553475f",
   "metadata": {},
   "outputs": [],
   "source": [
    "import json\n",
    "import pandas as pd\n",
    "from openai import OpenAI\n",
    "\n",
    "# Load CSVs\n",
    "df_master = pd.read_csv(r'C:\\Users\\AakashAI\\Desktop\\Repositories\\Sales Agent\\merged_leads.csv')\n",
    "df_cleaned_leads = pd.read_csv(r'C:\\Users\\AakashAI\\Desktop\\Repositories\\Sales Agent\\cleaned_leads.csv')\n",
    "\n",
    "client = OpenAI()\n",
    "\n",
    "FILTER_COLUMNS = [\n",
    "    \"Lead Number\", \"Lead Source\", \"Lead Origin\", \"Do Not Email\",\n",
    "    \"Do Not Call\", \"Converted\", \"Country\", \"Lead Stage\", \"City\"\n",
    "]\n",
    "df_leads = df_master"
   ]
  },
  {
   "cell_type": "code",
   "execution_count": null,
   "id": "f7fdc510",
   "metadata": {},
   "outputs": [],
   "source": [
    "def draft_sales_email_by_lead_number(lead_number: int, product: str, first_name: str, last_name: str) -> str:\n",
    "    \"\"\"\n",
    "    Drafts a personalized sales email for a given lead number by looking up the lead data from the DataFrame.\n",
    "    \n",
    "    Parameters:\n",
    "      lead_number (int): The unique identifier of the lead.\n",
    "      product (str): The product or service to pitch.\n",
    "    \n",
    "    Returns:\n",
    "      str: The drafted sales email.\n",
    "    \n",
    "    Raises:\n",
    "      Exception: If the lead number is not found.\n",
    "    \"\"\"\n",
    "    agent_name = \"Jane Doe\"  # Placeholder for the agent's name\n",
    "    agent_company = \"Tech Solutions\"  # Placeholder for the agent's company\n",
    "    agent_contact_information = \"jane.doe@xyz.com\"\n",
    "\n",
    "    email_body ={\n",
    "        \"\"\n",
    "    }\n",
    "\n",
    "    # Look up the lead in the DataFrame\n",
    "    lead_data = df_leads[df_leads['Lead Number_x'] == lead_number]\n",
    "    \n",
    "    if lead_data.empty:\n",
    "        raise Exception(f\"Lead with number {lead_number} not found.\")\n",
    "    \n",
    "    # Assuming each Lead Number is unique, get the first row\n",
    "    lead = lead_data.iloc[0].to_dict()\n",
    "    \n",
    "    # Create the email subject and body using the lead details\n",
    "    email_subject = f\"Discover How {product} Can Benefit {first_name, last_name}\"\n",
    "    email_body = (\n",
    "        f\"Hi {first_name} {last_name},\\n\\n\"\n",
    "        f\"I hope you're doing well. My name is {agent_name} and I work as a Sales Engineer at {agent_company}.\\n\\n\"\n",
    "        f\"I'm reaching out because I believe our {product} can significantly help {lead.get('Company', 'your company')} meet its goals. \"\n",
    "        \"We have a strong track record of helping organizations in your industry optimize their processes and drive success.\\n\\n\"\n",
    "        \"I'd love to arrange a brief call to discuss how we can support your goals and explore further benefits of our solution.\\n\\n\"\n",
    "        \"Looking forward to hearing from you.\\n\\n\"\n",
    "        \"Best regards,\\n\"\n",
    "        f\"{agent_name}\\n\"\n",
    "        f\"{agent_company}\\n\"\n",
    "        f\"{agent_contact_information}\"\n",
    "    )\n",
    "    \n",
    "    return f\"Subject: {email_subject}\\n\\n{email_body}\"\n"
   ]
  },
  {
   "cell_type": "code",
   "execution_count": 22,
   "id": "93c0ddbd",
   "metadata": {},
   "outputs": [
    {
     "name": "stdout",
     "output_type": "stream",
     "text": [
      "Subject: Discover How AI Solutions Can Benefit ('John', 'Doe')\n",
      "\n",
      "Hi John Doe,\n",
      "\n",
      "I hope you're doing well. My name is Jane Doe and I work as a Sales Engineer at Tech Solutions.\n",
      "\n",
      "I'm reaching out because I believe our AI Solutions can significantly help nehamenon26@rediffmail.com meet its goals. We have a strong track record of helping organizations in your industry optimize their processes and drive success.\n",
      "\n",
      "I'd love to arrange a brief call to discuss how we can support your goals and explore further benefits of our solution.\n",
      "\n",
      "Looking forward to hearing from you.\n",
      "\n",
      "Best regards,\n",
      "Jane Doe\n",
      "Tech Solutions\n",
      "Tech Solutions\n"
     ]
    }
   ],
   "source": [
    "print(draft_sales_email_by_lead_number(lead_number=651812, product=\"AI Solutions\", first_name=\"John\", last_name=\"Doe\"))"
   ]
  },
  {
   "cell_type": "code",
   "execution_count": null,
   "id": "cbd73069",
   "metadata": {},
   "outputs": [],
   "source": []
  }
 ],
 "metadata": {
  "kernelspec": {
   "display_name": ".venv",
   "language": "python",
   "name": "python3"
  },
  "language_info": {
   "codemirror_mode": {
    "name": "ipython",
    "version": 3
   },
   "file_extension": ".py",
   "mimetype": "text/x-python",
   "name": "python",
   "nbconvert_exporter": "python",
   "pygments_lexer": "ipython3",
   "version": "3.12.9"
  }
 },
 "nbformat": 4,
 "nbformat_minor": 5
}
