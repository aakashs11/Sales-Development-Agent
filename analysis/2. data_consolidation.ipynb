{
 "cells": [
  {
   "cell_type": "code",
   "execution_count": 13,
   "id": "82b7e9a9",
   "metadata": {},
   "outputs": [
    {
     "name": "stderr",
     "output_type": "stream",
     "text": [
      "C:\\Users\\AakashAI\\AppData\\Local\\Temp\\ipykernel_14792\\2726075474.py:9: DtypeWarning: Columns (5,44,53,77,97) have mixed types. Specify dtype option on import or set low_memory=False.\n",
      "  df_2 = pd.read_csv(base_path / \"leads_dataset_2.csv\")\n"
     ]
    }
   ],
   "source": [
    "import os\n",
    "import pandas as pd\n",
    "from pathlib import Path\n",
    "\n",
    "# Use current working directory and adjust\n",
    "base_path = Path(os.getcwd()).parent / \"data\"\n",
    "\n",
    "df_1 = pd.read_csv(base_path / \"leads_dataset_1.csv\")\n",
    "df_2 = pd.read_csv(base_path / \"leads_dataset_2.csv\")\n"
   ]
  },
  {
   "cell_type": "markdown",
   "id": "b0abf4a4",
   "metadata": {},
   "source": [
    "# Wrangling"
   ]
  },
  {
   "cell_type": "markdown",
   "id": "7c9f5a97",
   "metadata": {},
   "source": [
    "#### The two datasets have overlapping columns. \n",
    "1. Emails IDs are present only in df_2 and are spread across 2 fields: Company and Website. \n",
    "2. We will combine them into a single column named 'Email' "
   ]
  },
  {
   "cell_type": "code",
   "execution_count": 14,
   "id": "07d48ed0",
   "metadata": {},
   "outputs": [
    {
     "name": "stdout",
     "output_type": "stream",
     "text": [
      "DF1 columns containing emails: []\n",
      "DF2 columns containing emails: ['Company', 'Mobile Number', 'Website']\n"
     ]
    },
    {
     "data": {
      "text/plain": [
       "array([None, 'vinod.shah1@gmail.com', 'Yogeshsadarang@yahoo.in',\n",
       "       'robbinpandita100@gmail.com', 'vkaradkar@in.imshealth.com',\n",
       "       'rakshata.nikam@sharekhan.com', 'smart.ashwin@yahoo.com',\n",
       "       'nehamenon26@rediffmail.com', 'sankpal1pooja@gmail.com',\n",
       "       'vidula2211@gmail.com', 'manish.chand97@Yahoo.com',\n",
       "       'rombo@mai.com', 'nidhisingh9029291638@gmail.com',\n",
       "       'anjalimeena5991@gmail.com', 'snpnd45@gmail.com',\n",
       "       'dhananjay_joshi2007@gmail.com', 'Vaibhavi10rhyme@yahoo.co.in',\n",
       "       'lalitashetty210992@gmail.com', 'sagar.arya89@gmail.com',\n",
       "       'paulhilda205@yahoo.com', 'mrprabhutendolkar@gmail.com',\n",
       "       'rudrakshi1791@gmail.com', 'kkpranay@gmail.com',\n",
       "       'sheeri230@hotmail.com', 'drvrundagb@gmail.com',\n",
       "       'sudarshan.mishra@dizsupportad.com', 'shashankj1291@gmail.com',\n",
       "       'hildabarretto2015@gmail.com', 'hepsi.cfy@gmail.com',\n",
       "       'Sabhjit8182@rediffmail.com', 'gaurav.kataria@ericsson.com',\n",
       "       'Tirthasathe@gmail.com', 'ansaribushra93@gmail.com',\n",
       "       'fenilshah110@gmail.com', 'bodass@rbos.co.uk',\n",
       "       'shilpanagalkar01@gmail.com', 'vrushali.patil04@balic.in',\n",
       "       'meena.singh@relianceada.com', 'sandeep.shukla4@vodafone.com',\n",
       "       'rawoolchinmay@gmail.com', 'bunty@soundlinesgroup.com',\n",
       "       'vikas.shinde@disney.com', 'gaurav.devadiga@axisbank.com',\n",
       "       'anamika.savita@gmail.com', 'akashvyas27894@gmail.com',\n",
       "       'tganesh13@gmail.com', 'anisha.j@mahanagargas.com',\n",
       "       'vrk_kamat@rediffmail.com', 'dipesh.chheda@navneet.com',\n",
       "       'tvetriselvan@gmail.com', 'shant.dharam@gmail.com',\n",
       "       'suchi1555@gmail.com', 'mohamedjaun@gmail.com',\n",
       "       'mukeshchanda@gmail.com', 'jasrajb34@gmail.com',\n",
       "       'mrdhruv21@gmail.com', 'gavaiakshay666@gmail.com',\n",
       "       'krunal.mehta@ocwen.com', 'shubham.jain1@maxlifeinsurance.com',\n",
       "       'kavita2468@gmail.com'], dtype=object)"
      ]
     },
     "execution_count": 14,
     "metadata": {},
     "output_type": "execute_result"
    }
   ],
   "source": [
    "import re\n",
    "\n",
    "# Basic email pattern\n",
    "email_pattern = r'^[\\w\\.-]+@[\\w\\.-]+\\.\\w{2,}$'\n",
    "\n",
    "def find_email_columns(df):\n",
    "    email_cols = []\n",
    "    for col in df.columns:\n",
    "        # Check only string columns\n",
    "        if df[col].dtype == 'object':\n",
    "            sample_values = df[col].dropna().astype(str).head(500)  # limit for speed\n",
    "            if any(re.match(email_pattern, val.strip()) for val in sample_values if isinstance(val, str)):\n",
    "                email_cols.append(col)\n",
    "    return email_cols\n",
    "\n",
    "# Run on both dataframes\n",
    "email_columns_df1 = find_email_columns(df_1)\n",
    "email_columns_df2 = find_email_columns(df_2)\n",
    "\n",
    "print(\"DF1 columns containing emails:\", email_columns_df1)\n",
    "print(\"DF2 columns containing emails:\", email_columns_df2)\n",
    "import re\n",
    "\n",
    "def extract_email(val):\n",
    "    if isinstance(val, str):\n",
    "        match = re.search(r'[\\w\\.-]+@[\\w\\.-]+\\.\\w{2,}', val)\n",
    "        return match.group(0) if match else None\n",
    "    return None\n",
    "\n",
    "df_2['Email'] = df_2[['Company', 'Mobile Number', 'Website']].apply(\n",
    "    lambda row: next((extract_email(x) for x in row if extract_email(x)), None),\n",
    "    axis=1\n",
    ")\n",
    "(df_2['Email'].unique() )"
   ]
  },
  {
   "cell_type": "markdown",
   "id": "d6a636c3",
   "metadata": {},
   "source": [
    "3. We can merge the two dataframes now "
   ]
  },
  {
   "cell_type": "code",
   "execution_count": 3,
   "id": "39570d65",
   "metadata": {},
   "outputs": [
    {
     "name": "stdout",
     "output_type": "stream",
     "text": [
      "Total columns: 159\n",
      "New Dataset Size: 9240\n"
     ]
    }
   ],
   "source": [
    "# Only keep rows in df2 where Extracted Email is present\n",
    "# df2_with_emails = df_2[df_2['Email'].notnull()]\n",
    "\n",
    "# Merge df1 with filtered df2\n",
    "df_merged = df_1.merge(df_2, on='Lead Number', how='inner')\n",
    "\n",
    "# Get all columns in the merged dataframe\n",
    "all_columns = df_merged.columns.tolist()\n",
    "df_merged.to_csv(r'C:\\Users\\AakashAI\\Desktop\\Repositories\\Sales Agent\\merged_leads.csv', index=False)\n",
    "# Print results\n",
    "print(\"Total columns:\", len(all_columns))\n",
    "print(\"New Dataset Size:\", len(df_merged))\n",
    "\n"
   ]
  },
  {
   "cell_type": "code",
   "execution_count": 21,
   "id": "4a864d45",
   "metadata": {},
   "outputs": [
    {
     "data": {
      "text/plain": [
       "60"
      ]
     },
     "execution_count": 21,
     "metadata": {},
     "output_type": "execute_result"
    }
   ],
   "source": [
    "len(df_merged['Email'].unique())"
   ]
  },
  {
   "cell_type": "markdown",
   "id": "6bab13ae",
   "metadata": {},
   "source": [
    "4. We are going to fileter the leads that came from landing page submission or have an email listed\n"
   ]
  },
  {
   "cell_type": "code",
   "execution_count": 25,
   "id": "cc6261d6",
   "metadata": {},
   "outputs": [
    {
     "name": "stdout",
     "output_type": "stream",
     "text": [
      "Filtered leads count: 84\n",
      "Output saved to: C:\\Users\\AakashAI\\Desktop\\Repositories\\Sales Agent\\landing_page_leads.csv\n"
     ]
    }
   ],
   "source": [
    "# Filter leads from 'Landing Page Submission' and having either a company or email listed\n",
    "filtered_leads = df_merged[\n",
    "    (df_merged['Lead Origin_x'].str.strip().str.lower() == 'landing page submission') &\n",
    "    (\n",
    "        df_merged['Company'].notnull() |\n",
    "        df_merged['Email'].notnull()\n",
    "    )\n",
    "]\n",
    "#drop columns that are more than 70% sparse\n",
    "# filtered_leads = filtered_leads.loc[:, filtered_leads.isnull().mean() < 0.7]\n",
    "\n",
    "# Save to new file\n",
    "output_path = r'C:\\Users\\AakashAI\\Desktop\\Repositories\\Sales Agent\\landing_page_leads.csv'\n",
    "filtered_leads.to_csv(output_path, index=False)\n",
    "\n",
    "# Print summary\n",
    "print(\"Filtered leads count:\", len(filtered_leads))\n",
    "print(\"Output saved to:\", output_path)\n"
   ]
  },
  {
   "cell_type": "code",
   "execution_count": 26,
   "id": "4d4e8c89",
   "metadata": {},
   "outputs": [
    {
     "data": {
      "text/plain": [
       "18                                    None\n",
       "115                Yogeshsadarang@yahoo.in\n",
       "271                                   None\n",
       "479             vkaradkar@in.imshealth.com\n",
       "616           rakshata.nikam@sharekhan.com\n",
       "                       ...                \n",
       "8387                                  None\n",
       "8432                                  None\n",
       "8473                                  None\n",
       "8748                                  None\n",
       "8867    shubham.jain1@maxlifeinsurance.com\n",
       "Name: Email, Length: 84, dtype: object"
      ]
     },
     "execution_count": 26,
     "metadata": {},
     "output_type": "execute_result"
    }
   ],
   "source": [
    "filtered_leads['Email']"
   ]
  },
  {
   "cell_type": "code",
   "execution_count": 27,
   "id": "347d425a",
   "metadata": {},
   "outputs": [],
   "source": [
    "necessary_columns = {\n",
    "    # 'Lead Number_x': 'Lead Number',\n",
    "    'Lead Number' : 'Lead Number',\n",
    "    'Lead Source_x': 'Lead Source',\n",
    "    'Lead Origin_x': 'Lead Origin',\n",
    "    'Do Not Email_x': 'Do Not Email',\n",
    "    'Do Not Call_x': 'Do Not Call',\n",
    "    'Converted': 'Converted',\n",
    "    # 'Country_x': 'Country',\n",
    "    'Mobile Number': 'Mobile Number',\n",
    "    'Lead Stage': 'Lead Stage',\n",
    "    'Lead Grade': 'Lead Grade',\n",
    "    'Lead Score': 'Lead Score',\n",
    "    # 'Age': 'Age',\n",
    "    'Email': 'Email',\n",
    "    'City': 'City',\n",
    "    'Company': 'Company',\n",
    "    \n",
    "}"
   ]
  },
  {
   "cell_type": "code",
   "execution_count": 28,
   "id": "54a4bd85",
   "metadata": {},
   "outputs": [],
   "source": [
    "df_clean = filtered_leads[list(necessary_columns.keys())].rename(columns=necessary_columns)\n",
    "df_clean.to_csv(r'C:\\Users\\AakashAI\\Desktop\\Repositories\\Sales Agent\\cleaned_leads.csv', index=False)"
   ]
  },
  {
   "cell_type": "code",
   "execution_count": 29,
   "id": "6e4c81b1",
   "metadata": {},
   "outputs": [
    {
     "data": {
      "text/plain": [
       "67"
      ]
     },
     "execution_count": 29,
     "metadata": {},
     "output_type": "execute_result"
    }
   ],
   "source": [
    "len(df_clean['Company'].unique())"
   ]
  },
  {
   "cell_type": "code",
   "execution_count": 30,
   "id": "6cf03d1b",
   "metadata": {},
   "outputs": [
    {
     "data": {
      "text/plain": [
       "20"
      ]
     },
     "execution_count": 30,
     "metadata": {},
     "output_type": "execute_result"
    }
   ],
   "source": [
    "len(df_clean['Email'].unique())"
   ]
  },
  {
   "cell_type": "code",
   "execution_count": 31,
   "id": "ad28c702",
   "metadata": {},
   "outputs": [
    {
     "data": {
      "text/html": [
       "<div>\n",
       "<style scoped>\n",
       "    .dataframe tbody tr th:only-of-type {\n",
       "        vertical-align: middle;\n",
       "    }\n",
       "\n",
       "    .dataframe tbody tr th {\n",
       "        vertical-align: top;\n",
       "    }\n",
       "\n",
       "    .dataframe thead th {\n",
       "        text-align: right;\n",
       "    }\n",
       "</style>\n",
       "<table border=\"1\" class=\"dataframe\">\n",
       "  <thead>\n",
       "    <tr style=\"text-align: right;\">\n",
       "      <th></th>\n",
       "      <th>Lead Number</th>\n",
       "      <th>Lead Source</th>\n",
       "      <th>Lead Origin</th>\n",
       "      <th>Do Not Email</th>\n",
       "      <th>Do Not Call</th>\n",
       "      <th>Converted</th>\n",
       "      <th>Mobile Number</th>\n",
       "      <th>Lead Stage</th>\n",
       "      <th>Lead Grade</th>\n",
       "      <th>Lead Score</th>\n",
       "      <th>Email</th>\n",
       "      <th>City</th>\n",
       "      <th>Company</th>\n",
       "    </tr>\n",
       "  </thead>\n",
       "  <tbody>\n",
       "    <tr>\n",
       "      <th>18</th>\n",
       "      <td>660522</td>\n",
       "      <td>Google</td>\n",
       "      <td>Landing Page Submission</td>\n",
       "      <td>No</td>\n",
       "      <td>No</td>\n",
       "      <td>1</td>\n",
       "      <td>NaN</td>\n",
       "      <td>Qualified</td>\n",
       "      <td>NaN</td>\n",
       "      <td>165</td>\n",
       "      <td>None</td>\n",
       "      <td>Mumbai</td>\n",
       "      <td>Dr. Ram Manohar Lohia Avadh University /ugc</td>\n",
       "    </tr>\n",
       "    <tr>\n",
       "      <th>115</th>\n",
       "      <td>659357</td>\n",
       "      <td>Google</td>\n",
       "      <td>Landing Page Submission</td>\n",
       "      <td>No</td>\n",
       "      <td>No</td>\n",
       "      <td>0</td>\n",
       "      <td>NaN</td>\n",
       "      <td>Unreachable</td>\n",
       "      <td>NaN</td>\n",
       "      <td>120</td>\n",
       "      <td>Yogeshsadarang@yahoo.in</td>\n",
       "      <td>Mumbai</td>\n",
       "      <td>Yogeshsadarang@yahoo.in</td>\n",
       "    </tr>\n",
       "    <tr>\n",
       "      <th>271</th>\n",
       "      <td>657572</td>\n",
       "      <td>Referral Sites</td>\n",
       "      <td>Landing Page Submission</td>\n",
       "      <td>No</td>\n",
       "      <td>No</td>\n",
       "      <td>1</td>\n",
       "      <td>NaN</td>\n",
       "      <td>Qualified</td>\n",
       "      <td>NaN</td>\n",
       "      <td>180</td>\n",
       "      <td>None</td>\n",
       "      <td>Other Metro Cities</td>\n",
       "      <td>vinoba bhave university</td>\n",
       "    </tr>\n",
       "    <tr>\n",
       "      <th>479</th>\n",
       "      <td>655287</td>\n",
       "      <td>Direct Traffic</td>\n",
       "      <td>Landing Page Submission</td>\n",
       "      <td>No</td>\n",
       "      <td>No</td>\n",
       "      <td>0</td>\n",
       "      <td>NaN</td>\n",
       "      <td>Not Interested</td>\n",
       "      <td>NaN</td>\n",
       "      <td>90</td>\n",
       "      <td>vkaradkar@in.imshealth.com</td>\n",
       "      <td>Mumbai</td>\n",
       "      <td>vkaradkar@in.imshealth.com</td>\n",
       "    </tr>\n",
       "    <tr>\n",
       "      <th>616</th>\n",
       "      <td>654061</td>\n",
       "      <td>Direct Traffic</td>\n",
       "      <td>Landing Page Submission</td>\n",
       "      <td>No</td>\n",
       "      <td>No</td>\n",
       "      <td>1</td>\n",
       "      <td>NaN</td>\n",
       "      <td>Qualified</td>\n",
       "      <td>B</td>\n",
       "      <td>80</td>\n",
       "      <td>rakshata.nikam@sharekhan.com</td>\n",
       "      <td>Mumbai</td>\n",
       "      <td>rakshata.nikam@sharekhan.com</td>\n",
       "    </tr>\n",
       "    <tr>\n",
       "      <th>...</th>\n",
       "      <td>...</td>\n",
       "      <td>...</td>\n",
       "      <td>...</td>\n",
       "      <td>...</td>\n",
       "      <td>...</td>\n",
       "      <td>...</td>\n",
       "      <td>...</td>\n",
       "      <td>...</td>\n",
       "      <td>...</td>\n",
       "      <td>...</td>\n",
       "      <td>...</td>\n",
       "      <td>...</td>\n",
       "      <td>...</td>\n",
       "    </tr>\n",
       "    <tr>\n",
       "      <th>8387</th>\n",
       "      <td>585811</td>\n",
       "      <td>Organic Search</td>\n",
       "      <td>Landing Page Submission</td>\n",
       "      <td>No</td>\n",
       "      <td>No</td>\n",
       "      <td>0</td>\n",
       "      <td>NaN</td>\n",
       "      <td>Unreachable</td>\n",
       "      <td>B</td>\n",
       "      <td>170</td>\n",
       "      <td>None</td>\n",
       "      <td>Select</td>\n",
       "      <td>Social Kinnect</td>\n",
       "    </tr>\n",
       "    <tr>\n",
       "      <th>8432</th>\n",
       "      <td>585443</td>\n",
       "      <td>Google</td>\n",
       "      <td>Landing Page Submission</td>\n",
       "      <td>No</td>\n",
       "      <td>No</td>\n",
       "      <td>1</td>\n",
       "      <td>NaN</td>\n",
       "      <td>Closed</td>\n",
       "      <td>NaN</td>\n",
       "      <td>120</td>\n",
       "      <td>None</td>\n",
       "      <td>Thane &amp; Outskirts</td>\n",
       "      <td>mumbai university</td>\n",
       "    </tr>\n",
       "    <tr>\n",
       "      <th>8473</th>\n",
       "      <td>585174</td>\n",
       "      <td>Organic Search</td>\n",
       "      <td>Landing Page Submission</td>\n",
       "      <td>No</td>\n",
       "      <td>No</td>\n",
       "      <td>1</td>\n",
       "      <td>NaN</td>\n",
       "      <td>Qualified</td>\n",
       "      <td>C</td>\n",
       "      <td>245</td>\n",
       "      <td>None</td>\n",
       "      <td>Select</td>\n",
       "      <td>Kumar Metals</td>\n",
       "    </tr>\n",
       "    <tr>\n",
       "      <th>8748</th>\n",
       "      <td>583069</td>\n",
       "      <td>Google</td>\n",
       "      <td>Landing Page Submission</td>\n",
       "      <td>No</td>\n",
       "      <td>No</td>\n",
       "      <td>1</td>\n",
       "      <td>NaN</td>\n",
       "      <td>Qualified</td>\n",
       "      <td>NaN</td>\n",
       "      <td>90</td>\n",
       "      <td>None</td>\n",
       "      <td>Thane &amp; Outskirts</td>\n",
       "      <td>Graduate from mumbai university</td>\n",
       "    </tr>\n",
       "    <tr>\n",
       "      <th>8867</th>\n",
       "      <td>582296</td>\n",
       "      <td>Google</td>\n",
       "      <td>Landing Page Submission</td>\n",
       "      <td>No</td>\n",
       "      <td>No</td>\n",
       "      <td>1</td>\n",
       "      <td>NaN</td>\n",
       "      <td>Closed</td>\n",
       "      <td>NaN</td>\n",
       "      <td>145</td>\n",
       "      <td>shubham.jain1@maxlifeinsurance.com</td>\n",
       "      <td>Other Metro Cities</td>\n",
       "      <td>shubham.jain1@maxlifeinsurance.com</td>\n",
       "    </tr>\n",
       "  </tbody>\n",
       "</table>\n",
       "<p>84 rows × 13 columns</p>\n",
       "</div>"
      ],
      "text/plain": [
       "      Lead Number     Lead Source              Lead Origin Do Not Email  \\\n",
       "18         660522          Google  Landing Page Submission           No   \n",
       "115        659357          Google  Landing Page Submission           No   \n",
       "271        657572  Referral Sites  Landing Page Submission           No   \n",
       "479        655287  Direct Traffic  Landing Page Submission           No   \n",
       "616        654061  Direct Traffic  Landing Page Submission           No   \n",
       "...           ...             ...                      ...          ...   \n",
       "8387       585811  Organic Search  Landing Page Submission           No   \n",
       "8432       585443          Google  Landing Page Submission           No   \n",
       "8473       585174  Organic Search  Landing Page Submission           No   \n",
       "8748       583069          Google  Landing Page Submission           No   \n",
       "8867       582296          Google  Landing Page Submission           No   \n",
       "\n",
       "     Do Not Call  Converted Mobile Number      Lead Stage Lead Grade  \\\n",
       "18            No          1           NaN       Qualified        NaN   \n",
       "115           No          0           NaN     Unreachable        NaN   \n",
       "271           No          1           NaN       Qualified        NaN   \n",
       "479           No          0           NaN  Not Interested        NaN   \n",
       "616           No          1           NaN       Qualified          B   \n",
       "...          ...        ...           ...             ...        ...   \n",
       "8387          No          0           NaN     Unreachable          B   \n",
       "8432          No          1           NaN          Closed        NaN   \n",
       "8473          No          1           NaN       Qualified          C   \n",
       "8748          No          1           NaN       Qualified        NaN   \n",
       "8867          No          1           NaN          Closed        NaN   \n",
       "\n",
       "      Lead Score                               Email                City  \\\n",
       "18           165                                None              Mumbai   \n",
       "115          120             Yogeshsadarang@yahoo.in              Mumbai   \n",
       "271          180                                None  Other Metro Cities   \n",
       "479           90          vkaradkar@in.imshealth.com              Mumbai   \n",
       "616           80        rakshata.nikam@sharekhan.com              Mumbai   \n",
       "...          ...                                 ...                 ...   \n",
       "8387         170                                None              Select   \n",
       "8432         120                                None   Thane & Outskirts   \n",
       "8473         245                                None              Select   \n",
       "8748          90                                None   Thane & Outskirts   \n",
       "8867         145  shubham.jain1@maxlifeinsurance.com  Other Metro Cities   \n",
       "\n",
       "                                          Company  \n",
       "18    Dr. Ram Manohar Lohia Avadh University /ugc  \n",
       "115                       Yogeshsadarang@yahoo.in  \n",
       "271                       vinoba bhave university  \n",
       "479                    vkaradkar@in.imshealth.com  \n",
       "616                  rakshata.nikam@sharekhan.com  \n",
       "...                                           ...  \n",
       "8387                               Social Kinnect  \n",
       "8432                            mumbai university  \n",
       "8473                                 Kumar Metals  \n",
       "8748              Graduate from mumbai university  \n",
       "8867           shubham.jain1@maxlifeinsurance.com  \n",
       "\n",
       "[84 rows x 13 columns]"
      ]
     },
     "execution_count": 31,
     "metadata": {},
     "output_type": "execute_result"
    }
   ],
   "source": [
    "(df_clean)"
   ]
  },
  {
   "cell_type": "code",
   "execution_count": null,
   "id": "1ec6eb70",
   "metadata": {},
   "outputs": [],
   "source": []
  }
 ],
 "metadata": {
  "kernelspec": {
   "display_name": ".venv",
   "language": "python",
   "name": "python3"
  },
  "language_info": {
   "codemirror_mode": {
    "name": "ipython",
    "version": 3
   },
   "file_extension": ".py",
   "mimetype": "text/x-python",
   "name": "python",
   "nbconvert_exporter": "python",
   "pygments_lexer": "ipython3",
   "version": "3.12.9"
  }
 },
 "nbformat": 4,
 "nbformat_minor": 5
}
